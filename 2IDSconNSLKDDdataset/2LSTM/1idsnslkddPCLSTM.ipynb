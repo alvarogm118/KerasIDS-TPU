{
 "cells": [
  {
   "cell_type": "markdown",
   "metadata": {
    "colab_type": "text",
    "id": "CtKt-NGDrQEQ"
   },
   "source": [
    "## **Read in Raw NSL-KDD Dataset**"
   ]
  },
  {
   "cell_type": "code",
   "execution_count": 1,
   "metadata": {
    "colab": {
     "base_uri": "https://localhost:8080/",
     "height": 365
    },
    "colab_type": "code",
    "executionInfo": {
     "elapsed": 3226,
     "status": "ok",
     "timestamp": 1583839360649,
     "user": {
      "displayName": "Alvaro Gómez Mártinez",
      "photoUrl": "https://lh3.googleusercontent.com/a-/AOh14Gh4W7226uF2-JPAQDYT72XO5-IpBM-crzSpNrml=s64",
      "userId": "02610568617826548145"
     },
     "user_tz": -60
    },
    "id": "9XwJaLMhU1wY",
    "outputId": "0a6438cd-6831-45ff-9dbe-7b150ad42297"
   },
   "outputs": [
    {
     "name": "stdout",
     "output_type": "stream",
     "text": [
      "C:\\Users\\Alvaro\\.keras\\datasets\\NSL_KDD_Train.csv\n",
      "Read 125973 rows.\n"
     ]
    },
    {
     "data": {
      "text/html": [
       "<div>\n",
       "<style scoped>\n",
       "    .dataframe tbody tr th:only-of-type {\n",
       "        vertical-align: middle;\n",
       "    }\n",
       "\n",
       "    .dataframe tbody tr th {\n",
       "        vertical-align: top;\n",
       "    }\n",
       "\n",
       "    .dataframe thead th {\n",
       "        text-align: right;\n",
       "    }\n",
       "</style>\n",
       "<table border=\"1\" class=\"dataframe\">\n",
       "  <thead>\n",
       "    <tr style=\"text-align: right;\">\n",
       "      <th></th>\n",
       "      <th>duration</th>\n",
       "      <th>protocol_type</th>\n",
       "      <th>service</th>\n",
       "      <th>flag</th>\n",
       "      <th>src_bytes</th>\n",
       "      <th>dst_bytes</th>\n",
       "      <th>land</th>\n",
       "      <th>wrong_fragment</th>\n",
       "      <th>urgent</th>\n",
       "      <th>hot</th>\n",
       "      <th>...</th>\n",
       "      <th>dst_host_srv_count</th>\n",
       "      <th>dst_host_same_srv_rate</th>\n",
       "      <th>dst_host_diff_srv_rate</th>\n",
       "      <th>dst_host_same_src_port_rate</th>\n",
       "      <th>dst_host_srv_diff_host_rate</th>\n",
       "      <th>dst_host_serror_rate</th>\n",
       "      <th>dst_host_srv_serror_rate</th>\n",
       "      <th>dst_host_rerror_rate</th>\n",
       "      <th>dst_host_srv_rerror_rate</th>\n",
       "      <th>label</th>\n",
       "    </tr>\n",
       "  </thead>\n",
       "  <tbody>\n",
       "    <tr>\n",
       "      <th>0</th>\n",
       "      <td>0</td>\n",
       "      <td>tcp</td>\n",
       "      <td>ftp_data</td>\n",
       "      <td>SF</td>\n",
       "      <td>491</td>\n",
       "      <td>0</td>\n",
       "      <td>0</td>\n",
       "      <td>0</td>\n",
       "      <td>0</td>\n",
       "      <td>0</td>\n",
       "      <td>...</td>\n",
       "      <td>25</td>\n",
       "      <td>0.17</td>\n",
       "      <td>0.03</td>\n",
       "      <td>0.17</td>\n",
       "      <td>0.00</td>\n",
       "      <td>0.00</td>\n",
       "      <td>0.00</td>\n",
       "      <td>0.05</td>\n",
       "      <td>0.00</td>\n",
       "      <td>normal</td>\n",
       "    </tr>\n",
       "    <tr>\n",
       "      <th>1</th>\n",
       "      <td>0</td>\n",
       "      <td>udp</td>\n",
       "      <td>other</td>\n",
       "      <td>SF</td>\n",
       "      <td>146</td>\n",
       "      <td>0</td>\n",
       "      <td>0</td>\n",
       "      <td>0</td>\n",
       "      <td>0</td>\n",
       "      <td>0</td>\n",
       "      <td>...</td>\n",
       "      <td>1</td>\n",
       "      <td>0.00</td>\n",
       "      <td>0.60</td>\n",
       "      <td>0.88</td>\n",
       "      <td>0.00</td>\n",
       "      <td>0.00</td>\n",
       "      <td>0.00</td>\n",
       "      <td>0.00</td>\n",
       "      <td>0.00</td>\n",
       "      <td>normal</td>\n",
       "    </tr>\n",
       "    <tr>\n",
       "      <th>2</th>\n",
       "      <td>0</td>\n",
       "      <td>tcp</td>\n",
       "      <td>private</td>\n",
       "      <td>S0</td>\n",
       "      <td>0</td>\n",
       "      <td>0</td>\n",
       "      <td>0</td>\n",
       "      <td>0</td>\n",
       "      <td>0</td>\n",
       "      <td>0</td>\n",
       "      <td>...</td>\n",
       "      <td>26</td>\n",
       "      <td>0.10</td>\n",
       "      <td>0.05</td>\n",
       "      <td>0.00</td>\n",
       "      <td>0.00</td>\n",
       "      <td>1.00</td>\n",
       "      <td>1.00</td>\n",
       "      <td>0.00</td>\n",
       "      <td>0.00</td>\n",
       "      <td>neptune</td>\n",
       "    </tr>\n",
       "    <tr>\n",
       "      <th>3</th>\n",
       "      <td>0</td>\n",
       "      <td>tcp</td>\n",
       "      <td>http</td>\n",
       "      <td>SF</td>\n",
       "      <td>232</td>\n",
       "      <td>8153</td>\n",
       "      <td>0</td>\n",
       "      <td>0</td>\n",
       "      <td>0</td>\n",
       "      <td>0</td>\n",
       "      <td>...</td>\n",
       "      <td>255</td>\n",
       "      <td>1.00</td>\n",
       "      <td>0.00</td>\n",
       "      <td>0.03</td>\n",
       "      <td>0.04</td>\n",
       "      <td>0.03</td>\n",
       "      <td>0.01</td>\n",
       "      <td>0.00</td>\n",
       "      <td>0.01</td>\n",
       "      <td>normal</td>\n",
       "    </tr>\n",
       "    <tr>\n",
       "      <th>4</th>\n",
       "      <td>0</td>\n",
       "      <td>tcp</td>\n",
       "      <td>http</td>\n",
       "      <td>SF</td>\n",
       "      <td>199</td>\n",
       "      <td>420</td>\n",
       "      <td>0</td>\n",
       "      <td>0</td>\n",
       "      <td>0</td>\n",
       "      <td>0</td>\n",
       "      <td>...</td>\n",
       "      <td>255</td>\n",
       "      <td>1.00</td>\n",
       "      <td>0.00</td>\n",
       "      <td>0.00</td>\n",
       "      <td>0.00</td>\n",
       "      <td>0.00</td>\n",
       "      <td>0.00</td>\n",
       "      <td>0.00</td>\n",
       "      <td>0.00</td>\n",
       "      <td>normal</td>\n",
       "    </tr>\n",
       "  </tbody>\n",
       "</table>\n",
       "<p>5 rows × 42 columns</p>\n",
       "</div>"
      ],
      "text/plain": [
       "   duration protocol_type   service flag  src_bytes  dst_bytes  land  \\\n",
       "0         0           tcp  ftp_data   SF        491          0     0   \n",
       "1         0           udp     other   SF        146          0     0   \n",
       "2         0           tcp   private   S0          0          0     0   \n",
       "3         0           tcp      http   SF        232       8153     0   \n",
       "4         0           tcp      http   SF        199        420     0   \n",
       "\n",
       "   wrong_fragment  urgent  hot  ...  dst_host_srv_count  \\\n",
       "0               0       0    0  ...                  25   \n",
       "1               0       0    0  ...                   1   \n",
       "2               0       0    0  ...                  26   \n",
       "3               0       0    0  ...                 255   \n",
       "4               0       0    0  ...                 255   \n",
       "\n",
       "   dst_host_same_srv_rate  dst_host_diff_srv_rate  \\\n",
       "0                    0.17                    0.03   \n",
       "1                    0.00                    0.60   \n",
       "2                    0.10                    0.05   \n",
       "3                    1.00                    0.00   \n",
       "4                    1.00                    0.00   \n",
       "\n",
       "   dst_host_same_src_port_rate  dst_host_srv_diff_host_rate  \\\n",
       "0                         0.17                         0.00   \n",
       "1                         0.88                         0.00   \n",
       "2                         0.00                         0.00   \n",
       "3                         0.03                         0.04   \n",
       "4                         0.00                         0.00   \n",
       "\n",
       "   dst_host_serror_rate  dst_host_srv_serror_rate  dst_host_rerror_rate  \\\n",
       "0                  0.00                      0.00                  0.05   \n",
       "1                  0.00                      0.00                  0.00   \n",
       "2                  1.00                      1.00                  0.00   \n",
       "3                  0.03                      0.01                  0.00   \n",
       "4                  0.00                      0.00                  0.00   \n",
       "\n",
       "   dst_host_srv_rerror_rate    label  \n",
       "0                      0.00   normal  \n",
       "1                      0.00   normal  \n",
       "2                      0.00  neptune  \n",
       "3                      0.01   normal  \n",
       "4                      0.00   normal  \n",
       "\n",
       "[5 rows x 42 columns]"
      ]
     },
     "execution_count": 1,
     "metadata": {},
     "output_type": "execute_result"
    }
   ],
   "source": [
    "import pandas as pd\n",
    "from tensorflow.keras.utils import get_file\n",
    "\n",
    "try:\n",
    "    path = get_file('NSL_KDD_Train.csv', origin='https://raw.githubusercontent.com/merteroglu/NSL-KDD-Network-Instrusion-Detection/master/NSL_KDD_Train.csv')\n",
    "except:\n",
    "    print('Error downloading')\n",
    "    raise\n",
    "    \n",
    "print(path) \n",
    "\n",
    "# This file is a CSV, just no CSV extension or headers\n",
    "# Download from: http://kdd.ics.uci.edu/databases/kddcup99/kddcup99.html\n",
    "df = pd.read_csv(path, header=None)\n",
    "\n",
    "print(\"Read {} rows.\".format(len(df)))\n",
    "# df = df.sample(frac=0.1, replace=False) # Uncomment this line to sample only 10% of the dataset\n",
    "df.dropna(inplace=True,axis=1) # For now, just drop NA's (rows with missing values)\n",
    "\n",
    "# The CSV file has no column heads, so add them\n",
    "df.columns = [\n",
    "    'duration',\n",
    "    'protocol_type',\n",
    "    'service',\n",
    "    'flag',\n",
    "    'src_bytes',\n",
    "    'dst_bytes',\n",
    "    'land',\n",
    "    'wrong_fragment',\n",
    "    'urgent',\n",
    "    'hot',\n",
    "    'num_failed_logins',\n",
    "    'logged_in',\n",
    "    'num_compromised',\n",
    "    'root_shell',\n",
    "    'su_attempted',\n",
    "    'num_root',\n",
    "    'num_file_creations',\n",
    "    'num_shells',\n",
    "    'num_access_files',\n",
    "    'num_outbound_cmds',\n",
    "    'is_host_login',\n",
    "    'is_guest_login',\n",
    "    'count',\n",
    "    'srv_count',\n",
    "    'serror_rate',\n",
    "    'srv_serror_rate',\n",
    "    'rerror_rate',\n",
    "    'srv_rerror_rate',\n",
    "    'same_srv_rate',\n",
    "    'diff_srv_rate',\n",
    "    'srv_diff_host_rate',\n",
    "    'dst_host_count',\n",
    "    'dst_host_srv_count',\n",
    "    'dst_host_same_srv_rate',\n",
    "    'dst_host_diff_srv_rate',\n",
    "    'dst_host_same_src_port_rate',\n",
    "    'dst_host_srv_diff_host_rate',\n",
    "    'dst_host_serror_rate',\n",
    "    'dst_host_srv_serror_rate',\n",
    "    'dst_host_rerror_rate',\n",
    "    'dst_host_srv_rerror_rate',\n",
    "    'label'\n",
    "]\n",
    "\n",
    "# display 5 rows\n",
    "df[0:5]"
   ]
  },
  {
   "cell_type": "markdown",
   "metadata": {
    "colab_type": "text",
    "id": "fTq-eyf6ras8"
   },
   "source": [
    "## **Analyzing the Dataset**"
   ]
  },
  {
   "cell_type": "code",
   "execution_count": 2,
   "metadata": {
    "colab": {},
    "colab_type": "code",
    "id": "pQ9bJrriU1we"
   },
   "outputs": [],
   "source": [
    "ENCODING = 'utf-8'\n",
    "\n",
    "def expand_categories(values):\n",
    "    result = []\n",
    "    s = values.value_counts()\n",
    "    t = float(len(values))\n",
    "    for v in s.index:\n",
    "        result.append(\"{}:{}%\".format(v,round(100*(s[v]/t),2)))\n",
    "    return \"[{}]\".format(\",\".join(result))\n",
    "        \n",
    "def analyze(df):\n",
    "    print()\n",
    "    cols = df.columns.values\n",
    "    total = float(len(df))\n",
    "\n",
    "    print(\"{} rows\".format(int(total)))\n",
    "    for col in cols:\n",
    "        uniques = df[col].unique()\n",
    "        unique_count = len(uniques)\n",
    "        if unique_count>100:\n",
    "            print(\"** {}:{} ({}%)\".format(col,unique_count,int(((unique_count)/total)*100)))\n",
    "        else:\n",
    "            print(\"** {}:{}\".format(col,expand_categories(df[col])))\n",
    "            expand_categories(df[col])"
   ]
  },
  {
   "cell_type": "code",
   "execution_count": 3,
   "metadata": {
    "colab": {
     "base_uri": "https://localhost:8080/",
     "height": 845
    },
    "colab_type": "code",
    "executionInfo": {
     "elapsed": 3961,
     "status": "ok",
     "timestamp": 1583839361394,
     "user": {
      "displayName": "Alvaro Gómez Mártinez",
      "photoUrl": "https://lh3.googleusercontent.com/a-/AOh14Gh4W7226uF2-JPAQDYT72XO5-IpBM-crzSpNrml=s64",
      "userId": "02610568617826548145"
     },
     "user_tz": -60
    },
    "id": "DCKAYORpU1wh",
    "outputId": "71d81a65-850f-4dfb-855c-3ead94161364"
   },
   "outputs": [
    {
     "name": "stdout",
     "output_type": "stream",
     "text": [
      "\n",
      "125973 rows\n",
      "** duration:2981 (2%)\n",
      "** protocol_type:[tcp:81.52%,udp:11.9%,icmp:6.58%]\n",
      "** service:[http:32.02%,private:17.35%,domain_u:7.18%,smtp:5.81%,ftp_data:5.45%,eco_i:3.64%,other:3.46%,ecr_i:2.44%,telnet:1.87%,finger:1.4%,ftp:1.39%,auth:0.76%,Z39_50:0.68%,uucp:0.62%,courier:0.58%,bgp:0.56%,whois:0.55%,uucp_path:0.55%,iso_tsap:0.55%,time:0.52%,imap4:0.51%,nnsp:0.5%,vmnet:0.49%,urp_i:0.48%,domain:0.45%,ctf:0.45%,csnet_ns:0.43%,supdup:0.43%,discard:0.43%,http_443:0.42%,daytime:0.41%,gopher:0.41%,efs:0.39%,systat:0.38%,link:0.38%,exec:0.38%,hostnames:0.37%,name:0.36%,mtp:0.35%,echo:0.34%,klogin:0.34%,login:0.34%,ldap:0.33%,netbios_dgm:0.32%,sunrpc:0.3%,netbios_ssn:0.29%,netstat:0.29%,netbios_ns:0.28%,ssh:0.25%,kshell:0.24%,nntp:0.23%,pop_3:0.21%,sql_net:0.19%,IRC:0.15%,ntp_u:0.13%,rje:0.07%,remote_job:0.06%,pop_2:0.06%,X11:0.06%,printer:0.05%,shell:0.05%,urh_i:0.01%,tim_i:0.01%,red_i:0.01%,pm_dump:0.0%,tftp_u:0.0%,harvest:0.0%,aol:0.0%,http_8001:0.0%,http_2784:0.0%]\n",
      "** flag:[SF:59.49%,S0:27.67%,REJ:8.92%,RSTR:1.92%,RSTO:1.24%,S1:0.29%,SH:0.22%,S2:0.1%,RSTOS0:0.08%,S3:0.04%,OTH:0.04%]\n",
      "** src_bytes:3341 (2%)\n",
      "** dst_bytes:9326 (7%)\n",
      "** land:[0:99.98%,1:0.02%]\n",
      "** wrong_fragment:[0:99.13%,3:0.7%,1:0.16%]\n",
      "** urgent:[0:99.99%,1:0.0%,2:0.0%,3:0.0%]\n",
      "** hot:[0:97.88%,2:0.82%,1:0.29%,28:0.22%,30:0.2%,4:0.14%,6:0.11%,5:0.06%,24:0.05%,19:0.05%,22:0.04%,3:0.04%,18:0.04%,14:0.02%,20:0.01%,7:0.0%,15:0.0%,11:0.0%,44:0.0%,9:0.0%,25:0.0%,8:0.0%,10:0.0%,12:0.0%,33:0.0%,17:0.0%,21:0.0%,77:0.0%]\n",
      "** num_failed_logins:[0:99.9%,1:0.08%,2:0.01%,3:0.0%,4:0.0%,5:0.0%]\n",
      "** logged_in:[0:60.43%,1:39.57%]\n",
      "** num_compromised:[0:98.98%,1:0.77%,2:0.08%,4:0.03%,3:0.03%,6:0.02%,5:0.01%,7:0.0%,9:0.0%,8:0.0%,21:0.0%,31:0.0%,13:0.0%,12:0.0%,151:0.0%,10:0.0%,23:0.0%,371:0.0%,884:0.0%,520:0.0%,15:0.0%,22:0.0%,789:0.0%,405:0.0%,193:0.0%,1043:0.0%,83:0.0%,19:0.0%,258:0.0%,18:0.0%,17:0.0%,16:0.0%,462:0.0%,456:0.0%,78:0.0%,14:0.0%,452:0.0%,716:0.0%,1739:0.0%,75:0.0%,11:0.0%,198:0.0%,74:0.0%,457:0.0%,202:0.0%,767:0.0%,407:0.0%,756:0.0%,174:0.0%,558:0.0%,622:0.0%,175:0.0%,751:0.0%,177:0.0%,307:0.0%,691:0.0%,7479:0.0%,187:0.0%,373:0.0%,54:0.0%,247:0.0%,375:0.0%,568:0.0%,121:0.0%,761:0.0%,378:0.0%,110:0.0%,46:0.0%,237:0.0%,44:0.0%,281:0.0%,345:0.0%,537:0.0%,538:0.0%,157:0.0%,349:0.0%,94:0.0%,543:0.0%,676:0.0%,37:0.0%,38:0.0%,102:0.0%,166:0.0%,40:0.0%,809:0.0%,682:0.0%,107:0.0%,217:0.0%]\n",
      "** root_shell:[0:99.87%,1:0.13%]\n",
      "** su_attempted:[0:99.94%,2:0.05%,1:0.02%]\n",
      "** num_root:[0:99.48%,1:0.22%,9:0.1%,6:0.08%,2:0.03%,5:0.02%,4:0.01%,3:0.01%,7:0.0%,36:0.0%,421:0.0%,39:0.0%,10:0.0%,857:0.0%,71:0.0%,8:0.0%,151:0.0%,278:0.0%,22:0.0%,1045:0.0%,789:0.0%,402:0.0%,338:0.0%,146:0.0%,512:0.0%,849:0.0%,450:0.0%,17:0.0%,387:0.0%,16:0.0%,1743:0.0%,975:0.0%,206:0.0%,14:0.0%,77:0.0%,218:0.0%,12:0.0%,74:0.0%,261:0.0%,841:0.0%,390:0.0%,204:0.0%,191:0.0%,91:0.0%,121:0.0%,629:0.0%,54:0.0%,502:0.0%,55:0.0%,119:0.0%,247:0.0%,184:0.0%,505:0.0%,754:0.0%,889:0.0%,123:0.0%,187:0.0%,508:0.0%,572:0.0%,190:0.0%,446:0.0%,179:0.0%,626:0.0%,766:0.0%,867:0.0%,222:0.0%,287:0.0%,416:0.0%,417:0.0%,993:0.0%,610:0.0%,611:0.0%,100:0.0%,7468:0.0%,38:0.0%,40:0.0%,104:0.0%,425:0.0%,684:0.0%,749:0.0%,47:0.0%,605:0.0%]\n",
      "** num_file_creations:[0:99.77%,1:0.12%,2:0.03%,4:0.01%,15:0.0%,3:0.0%,5:0.0%,8:0.0%,10:0.0%,17:0.0%,12:0.0%,7:0.0%,11:0.0%,18:0.0%,26:0.0%,6:0.0%,14:0.0%,25:0.0%,20:0.0%,40:0.0%,13:0.0%,23:0.0%,9:0.0%,16:0.0%,29:0.0%,38:0.0%,36:0.0%,34:0.0%,33:0.0%,28:0.0%,22:0.0%,21:0.0%,27:0.0%,19:0.0%,43:0.0%]\n",
      "** num_shells:[0:99.96%,1:0.03%,2:0.0%]\n",
      "** num_access_files:[0:99.71%,1:0.25%,2:0.02%,3:0.01%,5:0.0%,4:0.0%,6:0.0%,8:0.0%,7:0.0%,9:0.0%]\n",
      "** num_outbound_cmds:[0:100.0%]\n",
      "** is_host_login:[0:100.0%,1:0.0%]\n",
      "** is_guest_login:[0:99.06%,1:0.94%]\n",
      "** count:512 (0%)\n",
      "** srv_count:509 (0%)\n",
      "** serror_rate:[0.0:68.93%,1.0:27.34%,0.5:0.39%,0.33:0.25%,0.07:0.24%,0.06:0.24%,0.08:0.2%,0.99:0.2%,0.01:0.17%,0.25:0.17%,0.05:0.15%,0.09:0.15%,0.1:0.14%,0.2:0.12%,0.03:0.12%,0.04:0.1%,0.17:0.09%,0.11:0.09%,0.14:0.08%,0.02:0.07%,0.97:0.06%,0.12:0.06%,0.98:0.05%,0.16:0.04%,0.96:0.03%,0.13:0.03%,0.21:0.03%,0.23:0.03%,0.18:0.03%,0.22:0.03%,0.95:0.02%,0.15:0.02%,0.94:0.02%,0.19:0.02%,0.93:0.01%,0.64:0.01%,0.75:0.01%,0.67:0.01%,0.83:0.01%,0.92:0.01%,0.8:0.01%,0.79:0.01%,0.65:0.01%,0.78:0.01%,0.63:0.01%,0.86:0.01%,0.24:0.01%,0.85:0.01%,0.66:0.01%,0.68:0.01%,0.74:0.01%,0.62:0.01%,0.91:0.01%,0.69:0.01%,0.59:0.01%,0.7:0.01%,0.58:0.01%,0.81:0.01%,0.6:0.01%,0.29:0.01%,0.9:0.0%,0.88:0.0%,0.89:0.0%,0.72:0.0%,0.73:0.0%,0.4:0.0%,0.76:0.0%,0.71:0.0%,0.77:0.0%,0.27:0.0%,0.61:0.0%,0.52:0.0%,0.84:0.0%,0.51:0.0%,0.53:0.0%,0.44:0.0%,0.56:0.0%,0.54:0.0%,0.55:0.0%,0.82:0.0%,0.43:0.0%,0.26:0.0%,0.28:0.0%,0.57:0.0%,0.35:0.0%,0.36:0.0%,0.37:0.0%,0.87:0.0%,0.3:0.0%]\n",
      "** srv_serror_rate:[0.0:70.45%,1.0:27.68%,0.5:0.34%,0.33:0.22%,0.25:0.18%,0.2:0.1%,0.17:0.09%,0.05:0.07%,0.03:0.07%,0.04:0.07%,0.07:0.05%,0.06:0.05%,0.08:0.05%,0.02:0.05%,0.14:0.05%,0.67:0.04%,0.12:0.04%,0.09:0.03%,0.1:0.03%,0.95:0.03%,0.11:0.03%,0.22:0.02%,0.29:0.02%,0.4:0.01%,0.91:0.01%,0.75:0.01%,0.94:0.01%,0.92:0.01%,0.89:0.01%,0.8:0.01%,0.88:0.01%,0.9:0.01%,0.18:0.01%,0.93:0.01%,0.83:0.01%,0.86:0.01%,0.13:0.01%,0.01:0.0%,0.15:0.0%,0.58:0.0%,0.23:0.0%,0.27:0.0%,0.41:0.0%,0.3:0.0%,0.43:0.0%,0.6:0.0%,0.59:0.0%,0.37:0.0%,0.26:0.0%,0.35:0.0%,0.76:0.0%,0.39:0.0%,0.56:0.0%,0.71:0.0%,0.34:0.0%,0.36:0.0%,0.53:0.0%,0.32:0.0%,0.78:0.0%,0.38:0.0%,0.87:0.0%,0.45:0.0%,0.85:0.0%,0.74:0.0%,0.55:0.0%,0.54:0.0%,0.44:0.0%,0.61:0.0%,0.72:0.0%,0.96:0.0%,0.63:0.0%,0.82:0.0%,0.28:0.0%,0.24:0.0%,0.48:0.0%,0.47:0.0%,0.19:0.0%,0.73:0.0%,0.68:0.0%,0.21:0.0%,0.51:0.0%,0.46:0.0%,0.65:0.0%,0.42:0.0%,0.7:0.0%,0.57:0.0%]\n",
      "** rerror_rate:[0.0:87.15%,1.0:10.22%,0.9:0.21%,0.92:0.17%,0.93:0.17%,0.89:0.16%,0.91:0.15%,0.5:0.13%,0.88:0.11%,0.95:0.11%,0.94:0.1%,0.03:0.08%,0.25:0.07%,0.87:0.07%,0.33:0.07%,0.02:0.06%,0.86:0.06%,0.96:0.06%,0.2:0.05%,0.01:0.05%,0.04:0.04%,0.82:0.04%,0.85:0.04%,0.84:0.03%,0.78:0.03%,0.67:0.03%,0.8:0.03%,0.05:0.03%,0.76:0.03%,0.75:0.03%,0.79:0.03%,0.17:0.03%,0.97:0.03%,0.77:0.03%,0.83:0.02%,0.81:0.02%,0.06:0.02%,0.07:0.02%,0.08:0.02%,0.99:0.02%,0.98:0.01%,0.14:0.01%,0.12:0.01%,0.36:0.01%,0.71:0.01%,0.1:0.01%,0.21:0.01%,0.4:0.01%,0.11:0.01%,0.09:0.01%,0.35:0.01%,0.22:0.01%,0.73:0.01%,0.64:0.01%,0.37:0.01%,0.32:0.0%,0.26:0.0%,0.43:0.0%,0.29:0.0%,0.31:0.0%,0.62:0.0%,0.69:0.0%,0.34:0.0%,0.27:0.0%,0.56:0.0%,0.57:0.0%,0.3:0.0%,0.6:0.0%,0.23:0.0%,0.28:0.0%,0.74:0.0%,0.72:0.0%,0.24:0.0%,0.19:0.0%,0.38:0.0%,0.7:0.0%,0.18:0.0%,0.44:0.0%,0.65:0.0%,0.55:0.0%,0.63:0.0%,0.58:0.0%]\n",
      "** srv_rerror_rate:[0.0:87.14%,1.0:11.77%,0.5:0.19%,0.33:0.13%,0.25:0.09%,0.2:0.07%,0.17:0.06%,0.04:0.04%,0.03:0.04%,0.14:0.04%,0.05:0.03%,0.67:0.03%,0.02:0.03%,0.08:0.03%,0.06:0.03%,0.12:0.03%,0.07:0.02%,0.1:0.02%,0.09:0.02%,0.11:0.02%,0.4:0.02%,0.75:0.01%,0.29:0.01%,0.83:0.01%,0.8:0.01%,0.85:0.01%,0.6:0.01%,0.82:0.01%,0.71:0.01%,0.79:0.01%,0.22:0.0%,0.84:0.0%,0.69:0.0%,0.64:0.0%,0.81:0.0%,0.73:0.0%,0.62:0.0%,0.86:0.0%,0.43:0.0%,0.78:0.0%,0.88:0.0%,0.57:0.0%,0.76:0.0%,0.87:0.0%,0.89:0.0%,0.01:0.0%,0.56:0.0%,0.74:0.0%,0.38:0.0%,0.77:0.0%,0.96:0.0%,0.92:0.0%,0.72:0.0%,0.7:0.0%,0.9:0.0%,0.58:0.0%,0.95:0.0%,0.55:0.0%,0.15:0.0%,0.13:0.0%,0.18:0.0%,0.3:0.0%]\n",
      "** same_srv_rate:101 (0%)\n",
      "** diff_srv_rate:[0.0:60.5%,0.06:15.08%,0.07:7.55%,0.05:5.47%,1.0:2.73%,0.08:1.49%,0.01:0.8%,0.09:0.51%,0.04:0.5%,0.5:0.44%,0.67:0.36%,0.1:0.35%,0.12:0.31%,0.11:0.3%,0.03:0.22%,0.6:0.21%,0.02:0.21%,0.29:0.18%,0.14:0.18%,0.33:0.17%,0.13:0.17%,0.15:0.15%,0.17:0.15%,0.25:0.15%,0.4:0.15%,0.52:0.12%,0.18:0.11%,0.2:0.11%,0.22:0.1%,0.19:0.08%,0.16:0.08%,0.38:0.07%,0.21:0.06%,0.75:0.06%,0.27:0.06%,0.24:0.04%,0.36:0.04%,0.53:0.04%,0.57:0.04%,0.31:0.03%,0.54:0.03%,0.23:0.03%,0.95:0.03%,0.99:0.03%,0.43:0.03%,0.3:0.03%,0.42:0.03%,0.44:0.03%,0.96:0.02%,0.55:0.02%,0.41:0.02%,0.28:0.02%,0.8:0.02%,0.26:0.02%,0.37:0.02%,0.56:0.02%,0.39:0.01%,0.58:0.01%,0.32:0.01%,0.71:0.01%,0.45:0.01%,0.64:0.01%,0.51:0.01%,0.62:0.01%,0.69:0.01%,0.46:0.01%,0.35:0.01%,0.73:0.01%,0.83:0.01%,0.47:0.01%,0.78:0.01%,0.82:0.01%,0.97:0.01%,0.98:0.0%,0.77:0.0%,0.7:0.0%,0.59:0.0%,0.92:0.0%,0.61:0.0%,0.76:0.0%,0.79:0.0%,0.88:0.0%,0.86:0.0%,0.74:0.0%,0.72:0.0%,0.65:0.0%,0.87:0.0%,0.85:0.0%,0.81:0.0%,0.89:0.0%,0.63:0.0%,0.9:0.0%,0.48:0.0%,0.91:0.0%,0.68:0.0%]\n",
      "** srv_diff_host_rate:[0.0:77.46%,1.0:6.46%,0.01:2.27%,0.5:0.78%,0.67:0.77%,0.12:0.72%,0.33:0.63%,0.02:0.61%,0.11:0.58%,0.25:0.57%,0.1:0.57%,0.14:0.53%,0.08:0.52%,0.15:0.49%,0.4:0.49%,0.09:0.49%,0.17:0.49%,0.29:0.47%,0.2:0.46%,0.18:0.46%,0.22:0.42%,0.06:0.41%,0.07:0.41%,0.13:0.37%,0.05:0.26%,0.19:0.2%,0.75:0.19%,0.27:0.18%,0.03:0.17%,0.21:0.17%,0.16:0.15%,0.04:0.15%,0.43:0.14%,0.6:0.14%,0.3:0.13%,0.38:0.13%,0.23:0.13%,0.24:0.07%,0.31:0.06%,0.36:0.06%,0.8:0.05%,0.44:0.04%,0.57:0.03%,0.28:0.02%,0.26:0.01%,0.45:0.01%,0.56:0.01%,0.42:0.01%,0.71:0.01%,0.32:0.01%,0.35:0.01%,0.62:0.01%,0.83:0.01%,0.47:0.0%,0.37:0.0%,0.54:0.0%,0.55:0.0%,0.46:0.0%,0.88:0.0%,0.41:0.0%]\n",
      "** dst_host_count:256 (0%)\n",
      "** dst_host_srv_count:256 (0%)\n",
      "** dst_host_same_srv_rate:101 (0%)\n",
      "** dst_host_diff_srv_rate:101 (0%)\n",
      "** dst_host_same_src_port_rate:101 (0%)\n",
      "** dst_host_srv_diff_host_rate:[0.0:68.99%,0.02:6.31%,0.01:5.67%,0.03:3.75%,0.04:3.59%,0.05:2.42%,0.5:1.23%,0.06:1.06%,0.07:0.82%,0.25:0.75%,1.0:0.55%,0.51:0.49%,0.08:0.39%,0.09:0.33%,0.26:0.26%,0.11:0.22%,0.15:0.2%,0.52:0.19%,0.13:0.19%,0.12:0.19%,0.1:0.19%,0.14:0.19%,0.16:0.18%,0.2:0.17%,0.17:0.17%,0.18:0.16%,0.22:0.14%,0.21:0.12%,0.19:0.11%,0.29:0.1%,0.27:0.09%,0.33:0.08%,0.4:0.08%,0.67:0.08%,0.24:0.06%,0.53:0.06%,0.23:0.05%,0.54:0.04%,0.3:0.03%,0.28:0.03%,0.56:0.03%,0.31:0.03%,0.6:0.03%,0.57:0.02%,0.55:0.02%,0.38:0.02%,0.43:0.02%,0.75:0.01%,0.32:0.01%,0.34:0.01%,0.35:0.01%,0.44:0.01%,0.37:0.01%,0.45:0.01%,0.62:0.0%,0.39:0.0%,0.47:0.0%,0.42:0.0%,0.36:0.0%,0.46:0.0%,0.48:0.0%,0.8:0.0%,0.41:0.0%,0.49:0.0%,0.58:0.0%,0.73:0.0%,0.97:0.0%,0.86:0.0%,0.83:0.0%,0.64:0.0%,0.88:0.0%,0.7:0.0%,0.78:0.0%,0.93:0.0%,0.71:0.0%]\n",
      "** dst_host_serror_rate:101 (0%)\n",
      "** dst_host_srv_serror_rate:[0.0:67.76%,1.0:27.19%,0.01:2.99%,0.02:0.51%,0.03:0.13%,0.04:0.09%,0.5:0.08%,0.05:0.06%,0.08:0.06%,0.07:0.06%,0.09:0.05%,0.97:0.04%,0.98:0.04%,0.06:0.04%,0.67:0.04%,0.11:0.04%,0.12:0.04%,0.33:0.04%,0.96:0.03%,0.1:0.03%,0.17:0.03%,0.25:0.03%,0.14:0.02%,0.2:0.02%,0.95:0.02%,0.92:0.02%,0.94:0.02%,0.75:0.02%,0.93:0.02%,0.91:0.02%,0.78:0.02%,0.88:0.02%,0.9:0.01%,0.16:0.01%,0.62:0.01%,0.73:0.01%,0.79:0.01%,0.27:0.01%,0.6:0.01%,0.18:0.01%,0.56:0.01%,0.65:0.01%,0.13:0.01%,0.43:0.01%,0.22:0.01%,0.4:0.01%,0.89:0.01%,0.85:0.01%,0.29:0.01%,0.15:0.01%,0.83:0.01%,0.69:0.01%,0.86:0.01%,0.8:0.01%,0.48:0.01%,0.87:0.01%,0.7:0.01%,0.81:0.01%,0.36:0.01%,0.76:0.01%,0.34:0.01%,0.49:0.01%,0.31:0.01%,0.71:0.01%,0.66:0.01%,0.82:0.01%,0.57:0.01%,0.3:0.01%,0.51:0.01%,0.39:0.01%,0.64:0.01%,0.38:0.01%,0.26:0.01%,0.63:0.01%,0.21:0.01%,0.41:0.01%,0.47:0.01%,0.19:0.01%,0.24:0.0%,0.52:0.0%,0.74:0.0%,0.54:0.0%,0.58:0.0%,0.84:0.0%,0.77:0.0%,0.45:0.0%,0.68:0.0%,0.42:0.0%,0.61:0.0%,0.28:0.0%,0.32:0.0%,0.55:0.0%,0.72:0.0%,0.44:0.0%,0.35:0.0%,0.53:0.0%,0.37:0.0%,0.23:0.0%,0.59:0.0%,0.46:0.0%]\n",
      "** dst_host_rerror_rate:101 (0%)\n",
      "** dst_host_srv_rerror_rate:101 (0%)\n",
      "** label:[normal:53.46%,neptune:32.72%,satan:2.88%,ipsweep:2.86%,portsweep:2.33%,smurf:2.1%,nmap:1.19%,back:0.76%,teardrop:0.71%,warezclient:0.71%,pod:0.16%,guess_passwd:0.04%,buffer_overflow:0.02%,warezmaster:0.02%,land:0.01%,imap:0.01%,rootkit:0.01%,loadmodule:0.01%,ftp_write:0.01%,multihop:0.01%,phf:0.0%,perl:0.0%,spy:0.0%]\n"
     ]
    }
   ],
   "source": [
    "# Analyze NSL-KDD\n",
    "\n",
    "import pandas as pd\n",
    "import os\n",
    "import numpy as np\n",
    "from sklearn import metrics\n",
    "from scipy.stats import zscore\n",
    "\n",
    "analyze(df)"
   ]
  },
  {
   "cell_type": "markdown",
   "metadata": {
    "colab_type": "text",
    "id": "IUgFl7VArm3I"
   },
   "source": [
    "## **Encode the feature vector**"
   ]
  },
  {
   "cell_type": "code",
   "execution_count": 4,
   "metadata": {
    "colab": {},
    "colab_type": "code",
    "id": "kG8vq6rKU1wk"
   },
   "outputs": [],
   "source": [
    "# Encode a numeric column as zscores\n",
    "def encode_numeric_zscore(df, name, mean=None, sd=None):\n",
    "    if mean is None:\n",
    "        mean = df[name].mean()\n",
    "\n",
    "    if sd is None:\n",
    "        sd = df[name].std()\n",
    "\n",
    "    df[name] = (df[name] - mean) / sd\n",
    "    \n",
    "# Encode text values to dummy variables(i.e. [1,0,0],[0,1,0],[0,0,1] for red,green,blue)\n",
    "def encode_text_dummy(df, name):\n",
    "    dummies = pd.get_dummies(df[name])\n",
    "    for x in dummies.columns:\n",
    "        dummy_name = \"%s-%s\" % (name,x)\n",
    "        df[dummy_name] = dummies[x]\n",
    "    df.drop(name, axis=1, inplace=True)"
   ]
  },
  {
   "cell_type": "code",
   "execution_count": 5,
   "metadata": {
    "colab": {},
    "colab_type": "code",
    "id": "GHTje3BEU1wn"
   },
   "outputs": [],
   "source": [
    "# Now encode the feature vector\n",
    "\n",
    "encode_numeric_zscore(df, 'duration')\n",
    "encode_text_dummy(df, 'protocol_type')\n",
    "encode_text_dummy(df, 'service')\n",
    "encode_text_dummy(df, 'flag')\n",
    "encode_numeric_zscore(df, 'src_bytes')\n",
    "encode_numeric_zscore(df, 'dst_bytes')\n",
    "encode_text_dummy(df, 'land')\n",
    "encode_numeric_zscore(df, 'wrong_fragment')\n",
    "encode_numeric_zscore(df, 'urgent')\n",
    "encode_numeric_zscore(df, 'hot')\n",
    "encode_numeric_zscore(df, 'num_failed_logins')\n",
    "encode_text_dummy(df, 'logged_in')\n",
    "encode_numeric_zscore(df, 'num_compromised')\n",
    "encode_numeric_zscore(df, 'root_shell')\n",
    "encode_numeric_zscore(df, 'su_attempted')\n",
    "encode_numeric_zscore(df, 'num_root')\n",
    "encode_numeric_zscore(df, 'num_file_creations')\n",
    "encode_numeric_zscore(df, 'num_shells')\n",
    "encode_numeric_zscore(df, 'num_access_files')\n",
    "encode_numeric_zscore(df, 'num_outbound_cmds')\n",
    "encode_text_dummy(df, 'is_host_login')\n",
    "encode_text_dummy(df, 'is_guest_login')\n",
    "encode_numeric_zscore(df, 'count')\n",
    "encode_numeric_zscore(df, 'srv_count')\n",
    "encode_numeric_zscore(df, 'serror_rate')\n",
    "encode_numeric_zscore(df, 'srv_serror_rate')\n",
    "encode_numeric_zscore(df, 'rerror_rate')\n",
    "encode_numeric_zscore(df, 'srv_rerror_rate')\n",
    "encode_numeric_zscore(df, 'same_srv_rate')\n",
    "encode_numeric_zscore(df, 'diff_srv_rate')\n",
    "encode_numeric_zscore(df, 'srv_diff_host_rate')\n",
    "encode_numeric_zscore(df, 'dst_host_count')\n",
    "encode_numeric_zscore(df, 'dst_host_srv_count')\n",
    "encode_numeric_zscore(df, 'dst_host_same_srv_rate')\n",
    "encode_numeric_zscore(df, 'dst_host_diff_srv_rate')\n",
    "encode_numeric_zscore(df, 'dst_host_same_src_port_rate')\n",
    "encode_numeric_zscore(df, 'dst_host_srv_diff_host_rate')\n",
    "encode_numeric_zscore(df, 'dst_host_serror_rate')\n",
    "encode_numeric_zscore(df, 'dst_host_srv_serror_rate')\n",
    "encode_numeric_zscore(df, 'dst_host_rerror_rate')\n",
    "encode_numeric_zscore(df, 'dst_host_srv_rerror_rate')\n",
    "\n",
    "# display 5 rows\n",
    "\n",
    "df.dropna(inplace=True,axis=1)\n",
    "df[0:5]\n",
    "# This is the numeric feature vector, as it goes to the neural net\n",
    "\n",
    "\n",
    "# Convert to numpy - Classification\n",
    "x_columns = df.columns.drop('label')\n",
    "x = df[x_columns].values\n",
    "dummies = pd.get_dummies(df['label']) # Classification\n",
    "outcomes = dummies.columns\n",
    "num_classes = len(outcomes)\n",
    "y = dummies.values"
   ]
  },
  {
   "cell_type": "markdown",
   "metadata": {
    "colab_type": "text",
    "id": "-U6uSXn6rtVA"
   },
   "source": [
    "## **The 23 output classes**"
   ]
  },
  {
   "cell_type": "code",
   "execution_count": 6,
   "metadata": {
    "colab": {
     "base_uri": "https://localhost:8080/",
     "height": 476
    },
    "colab_type": "code",
    "executionInfo": {
     "elapsed": 4923,
     "status": "ok",
     "timestamp": 1583839362368,
     "user": {
      "displayName": "Alvaro Gómez Mártinez",
      "photoUrl": "https://lh3.googleusercontent.com/a-/AOh14Gh4W7226uF2-JPAQDYT72XO5-IpBM-crzSpNrml=s64",
      "userId": "02610568617826548145"
     },
     "user_tz": -60
    },
    "id": "InL5-ww-U1wp",
    "outputId": "c4fbeed1-54c9-4892-d0ae-653edd320207"
   },
   "outputs": [
    {
     "data": {
      "text/plain": [
       "label\n",
       "back                 956\n",
       "buffer_overflow       30\n",
       "ftp_write              8\n",
       "guess_passwd          53\n",
       "imap                  11\n",
       "ipsweep             3599\n",
       "land                  18\n",
       "loadmodule             9\n",
       "multihop               7\n",
       "neptune            41214\n",
       "nmap                1493\n",
       "normal             67343\n",
       "perl                   3\n",
       "phf                    4\n",
       "pod                  201\n",
       "portsweep           2931\n",
       "rootkit               10\n",
       "satan               3633\n",
       "smurf               2646\n",
       "spy                    2\n",
       "teardrop             892\n",
       "warezclient          890\n",
       "warezmaster           20\n",
       "Name: label, dtype: int64"
      ]
     },
     "execution_count": 6,
     "metadata": {},
     "output_type": "execute_result"
    }
   ],
   "source": [
    "df.groupby('label')['label'].count()"
   ]
  },
  {
   "cell_type": "markdown",
   "metadata": {
    "colab_type": "text",
    "id": "4nHn75Ofrz3Y"
   },
   "source": [
    "## **Train the Neural Network**"
   ]
  },
  {
   "cell_type": "code",
   "execution_count": 7,
   "metadata": {
    "colab": {
     "base_uri": "https://localhost:8080/",
     "height": 1000
    },
    "colab_type": "code",
    "executionInfo": {
     "elapsed": 3073196,
     "status": "ok",
     "timestamp": 1583842430648,
     "user": {
      "displayName": "Alvaro Gómez Mártinez",
      "photoUrl": "https://lh3.googleusercontent.com/a-/AOh14Gh4W7226uF2-JPAQDYT72XO5-IpBM-crzSpNrml=s64",
      "userId": "02610568617826548145"
     },
     "user_tz": -60
    },
    "id": "UiSU-kYYU1wt",
    "outputId": "223e98ba-4c43-4c7b-f26a-a148193a0650"
   },
   "outputs": [
    {
     "name": "stderr",
     "output_type": "stream",
     "text": [
      "Using TensorFlow backend.\n"
     ]
    },
    {
     "name": "stdout",
     "output_type": "stream",
     "text": [
      "Train on 62986 samples, validate on 62987 samples\n",
      "Epoch 1/128\n",
      "62986/62986 [==============================] - 169s 3ms/sample - loss: 1.2786 - accuracy: 0.5349 - precision_m: 0.4843 - recall_m: 0.4675 - f1_m: 0.4683 - val_loss: 1.2625 - val_accuracy: 0.5336 - val_precision_m: 0.5336 - val_recall_m: 0.5336 - val_f1_m: 0.5336\n",
      "Epoch 2/128\n",
      "62986/62986 [==============================] - 137s 2ms/sample - loss: 0.9611 - accuracy: 0.6874 - precision_m: 0.6736 - recall_m: 0.6274 - f1_m: 0.6424 - val_loss: 0.4709 - val_accuracy: 0.8887 - val_precision_m: 0.9354 - val_recall_m: 0.8259 - val_f1_m: 0.8763\n",
      "Epoch 3/128\n",
      "62986/62986 [==============================] - 123s 2ms/sample - loss: 0.3977 - accuracy: 0.8874 - precision_m: 0.9374 - recall_m: 0.8492 - f1_m: 0.8902 - val_loss: 0.3328 - val_accuracy: 0.9003 - val_precision_m: 0.9316 - val_recall_m: 0.8743 - val_f1_m: 0.9016\n",
      "Epoch 4/128\n",
      "62986/62986 [==============================] - 130s 2ms/sample - loss: 0.3051 - accuracy: 0.9139 - precision_m: 0.9452 - recall_m: 0.8888 - f1_m: 0.9156 - val_loss: 0.2613 - val_accuracy: 0.9215 - val_precision_m: 0.9643 - val_recall_m: 0.8916 - val_f1_m: 0.9259\n",
      "Epoch 5/128\n",
      "62986/62986 [==============================] - 130s 2ms/sample - loss: 0.2213 - accuracy: 0.9409 - precision_m: 0.9559 - recall_m: 0.9267 - f1_m: 0.9408 - val_loss: 0.1852 - val_accuracy: 0.9519 - val_precision_m: 0.9591 - val_recall_m: 0.9478 - val_f1_m: 0.9533\n",
      "Epoch 6/128\n",
      "62986/62986 [==============================] - 128s 2ms/sample - loss: 0.1889 - accuracy: 0.9446 - precision_m: 0.9543 - recall_m: 0.9368 - f1_m: 0.9453 - val_loss: 0.1564 - val_accuracy: 0.9525 - val_precision_m: 0.9599 - val_recall_m: 0.9478 - val_f1_m: 0.9537\n",
      "Epoch 7/128\n",
      "62986/62986 [==============================] - 122s 2ms/sample - loss: 0.1319 - accuracy: 0.9571 - precision_m: 0.9647 - recall_m: 0.9504 - f1_m: 0.9574 - val_loss: 0.1280 - val_accuracy: 0.9590 - val_precision_m: 0.9663 - val_recall_m: 0.9556 - val_f1_m: 0.9608\n",
      "Epoch 8/128\n",
      "62986/62986 [==============================] - 126s 2ms/sample - loss: 0.1232 - accuracy: 0.9614 - precision_m: 0.9688 - recall_m: 0.9551 - f1_m: 0.9618 - val_loss: 0.1096 - val_accuracy: 0.9655 - val_precision_m: 0.9721 - val_recall_m: 0.9582 - val_f1_m: 0.9650\n",
      "Epoch 9/128\n",
      "62986/62986 [==============================] - 126s 2ms/sample - loss: 0.1066 - accuracy: 0.9678 - precision_m: 0.9729 - recall_m: 0.9634 - f1_m: 0.9680 - val_loss: 0.1089 - val_accuracy: 0.9643 - val_precision_m: 0.9680 - val_recall_m: 0.9609 - val_f1_m: 0.9644\n",
      "Epoch 10/128\n",
      "62986/62986 [==============================] - 122s 2ms/sample - loss: 0.0952 - accuracy: 0.9713 - precision_m: 0.9755 - recall_m: 0.9676 - f1_m: 0.9715 - val_loss: 0.1013 - val_accuracy: 0.9719 - val_precision_m: 0.9746 - val_recall_m: 0.9706 - val_f1_m: 0.9726\n",
      "Epoch 11/128\n",
      "62986/62986 [==============================] - 120s 2ms/sample - loss: 0.0944 - accuracy: 0.9717 - precision_m: 0.9748 - recall_m: 0.9687 - f1_m: 0.9717 - val_loss: 0.0988 - val_accuracy: 0.9716 - val_precision_m: 0.9746 - val_recall_m: 0.9684 - val_f1_m: 0.9714\n",
      "Epoch 12/128\n",
      "62986/62986 [==============================] - 127s 2ms/sample - loss: 0.0955 - accuracy: 0.9713 - precision_m: 0.9752 - recall_m: 0.9673 - f1_m: 0.9712 - val_loss: 0.0951 - val_accuracy: 0.9707 - val_precision_m: 0.9741 - val_recall_m: 0.9664 - val_f1_m: 0.9702\n",
      "Epoch 13/128\n",
      "62986/62986 [==============================] - 127s 2ms/sample - loss: 0.1068 - accuracy: 0.9683 - precision_m: 0.9721 - recall_m: 0.9644 - f1_m: 0.9682 - val_loss: 0.1309 - val_accuracy: 0.9617 - val_precision_m: 0.9705 - val_recall_m: 0.9563 - val_f1_m: 0.9632\n",
      "Epoch 14/128\n",
      "62986/62986 [==============================] - 120s 2ms/sample - loss: 0.0911 - accuracy: 0.9734 - precision_m: 0.9767 - recall_m: 0.9705 - f1_m: 0.9735 - val_loss: 0.0737 - val_accuracy: 0.9800 - val_precision_m: 0.9810 - val_recall_m: 0.9792 - val_f1_m: 0.9801\n",
      "Epoch 15/128\n",
      "62986/62986 [==============================] - 122s 2ms/sample - loss: 0.0753 - accuracy: 0.9786 - precision_m: 0.9806 - recall_m: 0.9766 - f1_m: 0.9786 - val_loss: 0.0940 - val_accuracy: 0.9757 - val_precision_m: 0.9777 - val_recall_m: 0.9740 - val_f1_m: 0.9758\n",
      "Epoch 16/128\n",
      "62986/62986 [==============================] - 127s 2ms/sample - loss: 0.0679 - accuracy: 0.9798 - precision_m: 0.9813 - recall_m: 0.9787 - f1_m: 0.9800 - val_loss: 0.0638 - val_accuracy: 0.9824 - val_precision_m: 0.9834 - val_recall_m: 0.9809 - val_f1_m: 0.9821\n",
      "Epoch 17/128\n",
      "62986/62986 [==============================] - 126s 2ms/sample - loss: 0.0675 - accuracy: 0.9807 - precision_m: 0.9820 - recall_m: 0.9795 - f1_m: 0.9807 - val_loss: 0.0678 - val_accuracy: 0.9798 - val_precision_m: 0.9811 - val_recall_m: 0.9789 - val_f1_m: 0.9800\n",
      "Epoch 18/128\n",
      "62986/62986 [==============================] - 118s 2ms/sample - loss: 0.0622 - accuracy: 0.9818 - precision_m: 0.9829 - recall_m: 0.9808 - f1_m: 0.9818 - val_loss: 0.0596 - val_accuracy: 0.9820 - val_precision_m: 0.9831 - val_recall_m: 0.9812 - val_f1_m: 0.9821\n",
      "Epoch 19/128\n",
      "62986/62986 [==============================] - 126s 2ms/sample - loss: 0.0601 - accuracy: 0.9826 - precision_m: 0.9837 - recall_m: 0.9814 - f1_m: 0.9825 - val_loss: 0.0636 - val_accuracy: 0.9821 - val_precision_m: 0.9835 - val_recall_m: 0.9810 - val_f1_m: 0.9822\n",
      "Epoch 20/128\n",
      "62986/62986 [==============================] - 126s 2ms/sample - loss: 0.0559 - accuracy: 0.9838 - precision_m: 0.9849 - recall_m: 0.9831 - f1_m: 0.9840 - val_loss: 0.0621 - val_accuracy: 0.9818 - val_precision_m: 0.9829 - val_recall_m: 0.9803 - val_f1_m: 0.9816\n",
      "Epoch 21/128\n",
      "62986/62986 [==============================] - 125s 2ms/sample - loss: 0.0555 - accuracy: 0.9838 - precision_m: 0.9847 - recall_m: 0.9830 - f1_m: 0.9838 - val_loss: 0.0563 - val_accuracy: 0.9849 - val_precision_m: 0.9856 - val_recall_m: 0.9838 - val_f1_m: 0.9847\n",
      "Epoch 22/128\n",
      "62986/62986 [==============================] - 115s 2ms/sample - loss: 0.0737 - accuracy: 0.9781 - precision_m: 0.9799 - recall_m: 0.9764 - f1_m: 0.9781 - val_loss: 0.0658 - val_accuracy: 0.9816 - val_precision_m: 0.9831 - val_recall_m: 0.9795 - val_f1_m: 0.9812\n",
      "Epoch 23/128\n",
      "62986/62986 [==============================] - 125s 2ms/sample - loss: 0.0524 - accuracy: 0.9847 - precision_m: 0.9856 - recall_m: 0.9840 - f1_m: 0.9847 - val_loss: 0.0566 - val_accuracy: 0.9837 - val_precision_m: 0.9847 - val_recall_m: 0.9831 - val_f1_m: 0.9839\n",
      "Epoch 24/128\n",
      "62986/62986 [==============================] - 124s 2ms/sample - loss: 0.0525 - accuracy: 0.9843 - precision_m: 0.9852 - recall_m: 0.9837 - f1_m: 0.9844 - val_loss: 0.0571 - val_accuracy: 0.9832 - val_precision_m: 0.9837 - val_recall_m: 0.9827 - val_f1_m: 0.9832\n",
      "Epoch 25/128\n",
      "62986/62986 [==============================] - 121s 2ms/sample - loss: 0.0531 - accuracy: 0.9843 - precision_m: 0.9850 - recall_m: 0.9836 - f1_m: 0.9843 - val_loss: 0.0533 - val_accuracy: 0.9854 - val_precision_m: 0.9859 - val_recall_m: 0.9847 - val_f1_m: 0.9853\n",
      "Epoch 26/128\n",
      "62986/62986 [==============================] - 117s 2ms/sample - loss: 0.0484 - accuracy: 0.9861 - precision_m: 0.9867 - recall_m: 0.9856 - f1_m: 0.9862 - val_loss: 0.0523 - val_accuracy: 0.9857 - val_precision_m: 0.9863 - val_recall_m: 0.9852 - val_f1_m: 0.9857\n",
      "Epoch 27/128\n",
      "62986/62986 [==============================] - 124s 2ms/sample - loss: 0.0462 - accuracy: 0.9859 - precision_m: 0.9867 - recall_m: 0.9854 - f1_m: 0.9860 - val_loss: 0.0486 - val_accuracy: 0.9861 - val_precision_m: 0.9865 - val_recall_m: 0.9860 - val_f1_m: 0.9862\n",
      "Epoch 28/128\n",
      "62986/62986 [==============================] - 125s 2ms/sample - loss: 0.0485 - accuracy: 0.9856 - precision_m: 0.9863 - recall_m: 0.9851 - f1_m: 0.9857 - val_loss: 0.0497 - val_accuracy: 0.9863 - val_precision_m: 0.9869 - val_recall_m: 0.9859 - val_f1_m: 0.9864\n",
      "Epoch 29/128\n",
      "62986/62986 [==============================] - 119s 2ms/sample - loss: 0.0453 - accuracy: 0.9862 - precision_m: 0.9869 - recall_m: 0.9856 - f1_m: 0.9862 - val_loss: 0.0534 - val_accuracy: 0.9850 - val_precision_m: 0.9856 - val_recall_m: 0.9842 - val_f1_m: 0.9849\n",
      "Epoch 30/128\n"
     ]
    },
    {
     "name": "stdout",
     "output_type": "stream",
     "text": [
      "62986/62986 [==============================] - 119s 2ms/sample - loss: 0.0427 - accuracy: 0.9868 - precision_m: 0.9875 - recall_m: 0.9864 - f1_m: 0.9869 - val_loss: 0.0514 - val_accuracy: 0.9850 - val_precision_m: 0.9856 - val_recall_m: 0.9844 - val_f1_m: 0.9850\n",
      "Epoch 31/128\n",
      "62986/62986 [==============================] - 124s 2ms/sample - loss: 0.0425 - accuracy: 0.9867 - precision_m: 0.9874 - recall_m: 0.9861 - f1_m: 0.9867 - val_loss: 0.0512 - val_accuracy: 0.9846 - val_precision_m: 0.9857 - val_recall_m: 0.9843 - val_f1_m: 0.9850\n",
      "Epoch 32/128\n",
      "62986/62986 [==============================] - 124s 2ms/sample - loss: 0.0422 - accuracy: 0.9872 - precision_m: 0.9882 - recall_m: 0.9863 - f1_m: 0.9872 - val_loss: 0.0515 - val_accuracy: 0.9855 - val_precision_m: 0.9862 - val_recall_m: 0.9850 - val_f1_m: 0.9856\n",
      "Epoch 00032: early stopping\n",
      "Time taken for the Network to train: 4014.4205273000002\n"
     ]
    }
   ],
   "source": [
    "import pandas as pd\n",
    "import io\n",
    "import requests\n",
    "import numpy as np\n",
    "import os\n",
    "import timeit\n",
    "from sklearn.model_selection import train_test_split\n",
    "from tensorflow.keras.models import Sequential\n",
    "from tensorflow.keras.layers import Dense, LSTM, Flatten, Dropout\n",
    "from tensorflow.keras.callbacks import EarlyStopping\n",
    "from keras import backend as K\n",
    "\n",
    "#Custom Metrics\n",
    "def recall_m(y_true, y_pred):\n",
    "        true_positives = K.sum(K.round(K.clip(y_true * y_pred, 0, 1)))\n",
    "        possible_positives = K.sum(K.round(K.clip(y_true, 0, 1)))\n",
    "        recall = true_positives / (possible_positives + K.epsilon())\n",
    "        return recall\n",
    "\n",
    "def precision_m(y_true, y_pred):\n",
    "        true_positives = K.sum(K.round(K.clip(y_true * y_pred, 0, 1)))\n",
    "        predicted_positives = K.sum(K.round(K.clip(y_pred, 0, 1)))\n",
    "        precision = true_positives / (predicted_positives + K.epsilon())\n",
    "        return precision\n",
    "\n",
    "def f1_m(y_true, y_pred):\n",
    "    precision = precision_m(y_true, y_pred)\n",
    "    recall = recall_m(y_true, y_pred)\n",
    "    return 2*((precision*recall)/(precision+recall+K.epsilon()))\n",
    "\n",
    "# Create a test/train split. 50% test\n",
    "# Split into train/test\n",
    "x_train, x_test, y_train, y_test = train_test_split(\n",
    "    x, y, test_size=0.5, random_state=42)\n",
    "\n",
    "num_of_features = x_train.shape[1] #120 features\n",
    "nb_classes = y_train.shape[1] #23 detected actions\n",
    "\n",
    "# Reshaping x_train and x_test for efficient modelling\n",
    "x_train = np.reshape(x_train, (x_train.shape[0], x_train.shape[1], 1))\n",
    "x_test = np.reshape(x_test, (x_test.shape[0], x_test.shape[1], 1))\n",
    "\n",
    "#Model\n",
    "model = Sequential()\n",
    "\n",
    "model.add(LSTM(50, input_shape=(num_of_features,1), return_sequences=False))\n",
    "model.add(Dense(nb_classes,activation='softmax'))\n",
    "\n",
    "model.compile(optimizer=\"adam\", loss=\"categorical_crossentropy\", metrics=['accuracy', precision_m, recall_m, f1_m])\n",
    "\n",
    "monitor = EarlyStopping(monitor='val_loss', min_delta=1e-4, patience=5, verbose=1, mode='auto')\n",
    "\n",
    "startTime = timeit.default_timer()\n",
    "history = model.fit(x_train,y_train,validation_data=(x_test,y_test),callbacks=[monitor],verbose=1,epochs=128)\n",
    "elapsedTime = timeit.default_timer() - startTime\n",
    "\n",
    "print(\"Time taken for the Network to train:\",elapsedTime)"
   ]
  },
  {
   "cell_type": "markdown",
   "metadata": {
    "colab_type": "text",
    "id": "6QDUPpcNr8JY"
   },
   "source": [
    "## **Plotting & Evaluating Metrics**"
   ]
  },
  {
   "cell_type": "code",
   "execution_count": 8,
   "metadata": {
    "colab": {
     "base_uri": "https://localhost:8080/",
     "height": 1000
    },
    "colab_type": "code",
    "executionInfo": {
     "elapsed": 3116457,
     "status": "ok",
     "timestamp": 1583842473915,
     "user": {
      "displayName": "Alvaro Gómez Mártinez",
      "photoUrl": "https://lh3.googleusercontent.com/a-/AOh14Gh4W7226uF2-JPAQDYT72XO5-IpBM-crzSpNrml=s64",
      "userId": "02610568617826548145"
     },
     "user_tz": -60
    },
    "id": "Ln96s8dKfFDu",
    "outputId": "b2f9236b-f0d4-43bc-aaf6-9295c4b6eef9"
   },
   "outputs": [
    {
     "name": "stdout",
     "output_type": "stream",
     "text": [
      "Evaluating...\n",
      "Plotting the metrics...\n"
     ]
    },
    {
     "data": {
      "image/png": "[encoded data removed]",
      "text/plain": [
       "<Figure size 432x288 with 1 Axes>"
      ]
     },
     "metadata": {
      "needs_background": "light"
     },
     "output_type": "display_data"
    },
    {
     "name": "stdout",
     "output_type": "stream",
     "text": [
      "Loss: 5.15%\n"
     ]
    },
    {
     "data": {
      "image/png": "[encoded data removed]",
      "text/plain": [
       "<Figure size 432x288 with 1 Axes>"
      ]
     },
     "metadata": {
      "needs_background": "light"
     },
     "output_type": "display_data"
    },
    {
     "name": "stdout",
     "output_type": "stream",
     "text": [
      "Accuracy: 98.55%\n"
     ]
    },
    {
     "data": {
      "image/png": "[encoded data removed]",
      "text/plain": [
       "<Figure size 432x288 with 1 Axes>"
      ]
     },
     "metadata": {
      "needs_background": "light"
     },
     "output_type": "display_data"
    },
    {
     "name": "stdout",
     "output_type": "stream",
     "text": [
      "Precision: 98.62%\n"
     ]
    },
    {
     "data": {
      "image/png": "[encoded data removed]",
      "text/plain": [
       "<Figure size 432x288 with 1 Axes>"
      ]
     },
     "metadata": {
      "needs_background": "light"
     },
     "output_type": "display_data"
    },
    {
     "name": "stdout",
     "output_type": "stream",
     "text": [
      "Recall: 98.51%\n"
     ]
    },
    {
     "data": {
      "image/png": "[encoded data removed]",
      "text/plain": [
       "<Figure size 432x288 with 1 Axes>"
      ]
     },
     "metadata": {
      "needs_background": "light"
     },
     "output_type": "display_data"
    },
    {
     "name": "stdout",
     "output_type": "stream",
     "text": [
      "F1 Score: 98.57%\n",
      "\n",
      "Final Score...\n",
      "Validation/Final Score: 98.55%\n"
     ]
    }
   ],
   "source": [
    "import matplotlib.pyplot as plt\n",
    "from sklearn.metrics import accuracy_score\n",
    "\n",
    "#Evaluating\n",
    "print(\"Evaluating...\")\n",
    "loss, accuracy, precision, recall, f1_score = model.evaluate(x_test, y_test, verbose=0, batch_size=1024)\n",
    "\n",
    "print(\"Plotting the metrics...\")\n",
    "plt.rcParams[\"figure.figsize\"] = [6,4]\n",
    "\n",
    "# Plot training & validation loss values\n",
    "plt.plot(history.history['loss'])\n",
    "plt.plot(history.history['val_loss'])\n",
    "plt.title('Model Loss')\n",
    "plt.ylabel('Loss')\n",
    "plt.xlabel('Epoch')\n",
    "plt.legend(['Train', 'Test'], loc='upper left')\n",
    "plt.show()\n",
    "print('Loss: %.2f%%' % (loss*100))\n",
    "\n",
    "# Plot training & validation accuracy values\n",
    "plt.plot(history.history['accuracy'])\n",
    "plt.plot(history.history['val_accuracy'])\n",
    "plt.title('Model Accuracy')\n",
    "plt.ylabel('Accuracy')\n",
    "plt.xlabel('Epoch')\n",
    "plt.legend(['Train', 'Test'], loc='upper left')\n",
    "plt.show()\n",
    "print('Accuracy: %.2f%%' % (accuracy*100))\n",
    "\n",
    "# Plot training & validation precision values\n",
    "plt.plot(history.history['precision_m'])\n",
    "plt.plot(history.history['val_precision_m'])\n",
    "plt.title('Model Precision')\n",
    "plt.ylabel('Precision')\n",
    "plt.xlabel('Epoch')\n",
    "plt.legend(['Train', 'Test'], loc='upper left')\n",
    "plt.show()\n",
    "print('Precision: %.2f%%' % (precision*100))\n",
    "\n",
    "# Plot training & validation recall values\n",
    "plt.plot(history.history['recall_m'])\n",
    "plt.plot(history.history['val_recall_m'])\n",
    "plt.title('Model Recall')\n",
    "plt.ylabel('Recall')\n",
    "plt.xlabel('Epoch')\n",
    "plt.legend(['Train', 'Test'], loc='upper left')\n",
    "plt.show()\n",
    "print('Recall: %.2f%%' % (recall*100))\n",
    "\n",
    "# Plot training & validation f1 score values\n",
    "plt.plot(history.history['f1_m'])\n",
    "plt.plot(history.history['val_f1_m'])\n",
    "plt.title('Model F1 score')\n",
    "plt.ylabel('F1 Score')\n",
    "plt.xlabel('Epoch')\n",
    "plt.legend(['Train', 'Test'], loc='upper left')\n",
    "plt.show()\n",
    "print('F1 Score: %.2f%%' % (f1_score*100))\n",
    "\n",
    "\n",
    "# Final Score\n",
    "print('\\nFinal Score...')\n",
    "y_p = model.predict(x_test)\n",
    "y_pred = np.argmax(y_p,axis=1) #Return a 1D binary vector indicating the ID of the mac number in the row\n",
    "y_eval = np.argmax(y_test,axis=1) #Return a 1D binary vector indicating the ID of the mac number in the row\n",
    "score = accuracy_score(y_eval, y_pred)\n",
    "print('Validation/Final Score: %.2f%%' % (score*100))\n",
    "\n",
    "\n"
   ]
  },
  {
   "cell_type": "markdown",
   "metadata": {
    "colab_type": "text",
    "id": "26MFeYVe1ONb"
   },
   "source": [
    "## **Confusion Matrix**"
   ]
  },
  {
   "cell_type": "code",
   "execution_count": 9,
   "metadata": {
    "colab": {
     "base_uri": "https://localhost:8080/",
     "height": 1000
    },
    "colab_type": "code",
    "executionInfo": {
     "elapsed": 3117549,
     "status": "ok",
     "timestamp": 1583842475013,
     "user": {
      "displayName": "Alvaro Gómez Mártinez",
      "photoUrl": "https://lh3.googleusercontent.com/a-/AOh14Gh4W7226uF2-JPAQDYT72XO5-IpBM-crzSpNrml=s64",
      "userId": "02610568617826548145"
     },
     "user_tz": -60
    },
    "id": "3Uo6WQpg3Wfx",
    "outputId": "6abf5a6b-2ae8-4a82-c210-e5cebdf3ec8a"
   },
   "outputs": [
    {
     "name": "stdout",
     "output_type": "stream",
     "text": [
      "Array combinations: ...\n",
      "Confusion matrix, without normalization\n",
      "[[33317   123   113     0    57]\n",
      " [  196  5635    15     0     1]\n",
      " [   27    11 22951     0     0]\n",
      " [   22     1     0     0     0]\n",
      " [  202     2     0     0   314]]\n"
     ]
    },
    {
     "data": {
      "image/png": "[encoded data removed]",
      "text/plain": [
       "<Figure size 432x432 with 2 Axes>"
      ]
     },
     "metadata": {
      "needs_background": "light"
     },
     "output_type": "display_data"
    },
    {
     "name": "stdout",
     "output_type": "stream",
     "text": [
      "Normalized confusion matrix\n",
      "[[9.91282356e-01 3.65962511e-03 3.36209461e-03 0.00000000e+00\n",
      "  1.69592383e-03]\n",
      " [3.35214640e-02 9.63742090e-01 2.56541816e-03 0.00000000e+00\n",
      "  1.71027878e-04]\n",
      " [1.17447475e-03 4.78489712e-04 9.98347036e-01 0.00000000e+00\n",
      "  0.00000000e+00]\n",
      " [9.56521739e-01 4.34782609e-02 0.00000000e+00 0.00000000e+00\n",
      "  0.00000000e+00]\n",
      " [3.89961390e-01 3.86100386e-03 0.00000000e+00 0.00000000e+00\n",
      "  6.06177606e-01]]\n"
     ]
    },
    {
     "data": {
      "image/png": "[encoded data removed]",
      "text/plain": [
       "<Figure size 432x432 with 2 Axes>"
      ]
     },
     "metadata": {
      "needs_background": "light"
     },
     "output_type": "display_data"
    },
    {
     "name": "stdout",
     "output_type": "stream",
     "text": [
      "Each row adds 1 in total\n"
     ]
    }
   ],
   "source": [
    "# Measure accuracy\n",
    "from sklearn.metrics import confusion_matrix\n",
    "import itertools\n",
    "import sys\n",
    "\n",
    "# Confusion Matrix\n",
    "def plot_confusion_matrix(cm, labels, classes, normalize=False, title='Confusion matrix', cmap=plt.cm.Greys):\n",
    "    # This function prints and plots the confusion matrix. Normalization can be applied by setting `normalize=True`.\n",
    "    plt.rcParams[\"figure.figsize\"] = [6,6]\n",
    "    plt.figure()\n",
    "    if normalize:\n",
    "        cm = cm.astype('float') / cm.sum(axis=1)[:, np.newaxis]\n",
    "        print(\"Normalized confusion matrix\")\n",
    "    else:\n",
    "        print('Confusion matrix, without normalization')\n",
    "    print(cm)\n",
    "\n",
    "    plt.imshow(cm, interpolation='nearest', cmap=cmap)\n",
    "    plt.title(title)\n",
    "    plt.colorbar()\n",
    "    if labels is not None:\n",
    "        tick_marks = np.arange(len(labels))\n",
    "        plt.xticks(tick_marks, labels, rotation=60)\n",
    "        plt.yticks(tick_marks, labels)\n",
    "    else:\n",
    "        tick_marks = np.arange(len(classes))\n",
    "        plt.xticks(tick_marks, classes, rotation=45)\n",
    "        plt.yticks(tick_marks, classes)\n",
    "\n",
    "    thresh = cm.max() / 2.\n",
    "    for i, j in itertools.product(range(cm.shape[0]), range(cm.shape[1])):\n",
    "        if normalize:\n",
    "            plt.text(j, i, \"{0:.4f}\".format(cm[i, j]), horizontalalignment=\"center\", color=\"white\" if cm[i, j] > thresh else \"black\")\n",
    "        else:\n",
    "            plt.text(j, i, \"{0:.0f}\".format(cm[i, j]), horizontalalignment=\"center\", color=\"white\" if cm[i, j] > thresh else \"black\")\n",
    "    plt.tight_layout()\n",
    "    plt.ylabel('True label')\n",
    "    plt.xlabel('Predicted label')\n",
    "    plt.show()\n",
    "\n",
    "# Grouping in the 5 main categories in the KDD-99 dataset\n",
    "# 0 Normal (no attack)\n",
    "y_p0 = np.delete(y_p, [0,1,2,3,4,5,6,7,8,9,10,12,13,14,15,16,17,18,19,20,21,22], axis=1)\n",
    "y_p0s = np.sum(y_p0, axis=1)\n",
    "y_p0r= y_p0s.reshape(y_p0s.shape[0], 1)\n",
    "y_t0 = np.delete(y_test, [0,1,2,3,4,5,6,7,8,9,10,12,13,14,15,16,17,18,19,20,21,22], axis=1)\n",
    "y_t0s = np.sum(y_t0, axis=1)\n",
    "y_t0r= y_t0s.reshape(y_t0s.shape[0], 1)\n",
    "\n",
    "# 1 Probe\n",
    "y_p1 = np.delete(y_p, [0,1,2,3,4,6,7,8,9,11,12,13,14,16,18,19,20,21,22], axis=1)\n",
    "y_p1s = np.sum(y_p1, axis=1)\n",
    "y_p1r= y_p1s.reshape(y_p1s.shape[0], 1)\n",
    "y_t1 = np.delete(y_test, [0,1,2,3,4,6,7,8,9,11,12,13,14,16,18,19,20,21,22], axis=1)\n",
    "y_t1s = np.sum(y_t1, axis=1)\n",
    "y_t1r= y_t1s.reshape(y_t1s.shape[0], 1)\n",
    "\n",
    "# 2 DoS\n",
    "y_p2 = np.delete(y_p, [1,2,3,4,5,7,8,10,11,12,13,15,16,17,19,21,22], axis=1)\n",
    "y_p2s = np.sum(y_p2, axis=1)\n",
    "y_p2r= y_p2s.reshape(y_p2s.shape[0], 1)\n",
    "y_t2 = np.delete(y_test, [1,2,3,4,5,7,8,10,11,12,13,15,16,17,19,21,22], axis=1)\n",
    "y_t2s = np.sum(y_t2, axis=1)\n",
    "y_t2r= y_t2s.reshape(y_t2s.shape[0], 1)\n",
    "\n",
    "# 3 U2R\n",
    "y_p3 = np.delete(y_p, [0,2,3,4,5,6,8,9,10,11,13,14,15,17,18,19,20,21,22], axis=1)\n",
    "y_p3s = np.sum(y_p3, axis=1)\n",
    "y_p3r= y_p2s.reshape(y_p3s.shape[0], 1)\n",
    "y_t3 = np.delete(y_test, [0,2,3,4,5,6,8,9,10,11,13,14,15,17,18,19,20,21,22], axis=1)\n",
    "y_t3s = np.sum(y_t3, axis=1)\n",
    "y_t3r= y_t3s.reshape(y_t3s.shape[0], 1)\n",
    "\n",
    "# 4 R2L\n",
    "y_p4 = np.delete(y_p, [0,1,5,6,7,9,10,11,12,14,15,16,17,18,20], axis=1)\n",
    "y_p4s = np.sum(y_p4, axis=1)\n",
    "y_p4r= y_p4s.reshape(y_p4s.shape[0], 1)\n",
    "y_t4 = np.delete(y_test, [0,1,5,6,7,9,10,11,12,14,15,16,17,18,20], axis=1)\n",
    "y_t4s = np.sum(y_t4, axis=1)\n",
    "y_t4r= y_t4s.reshape(y_t4s.shape[0], 1)\n",
    "\n",
    "y_predT = np.concatenate((y_p0r, y_p1r, y_p2r, y_p3r, y_p4r), axis=1)\n",
    "y_testT = np.concatenate((y_t0r, y_t1r, y_t2r, y_t3r, y_t4r), axis=1)\n",
    "y_pred2 = np.argmax(y_predT,axis=1) #Return a 1D binary vector indicating the ID of the mac number in the row\n",
    "y_eval2 = np.argmax(y_testT,axis=1) #Return a 1D binary vector indicating the ID of the mac number in the row\n",
    "\n",
    "\n",
    "print(\"Array combinations: ...\")\n",
    "\n",
    "labels = ['Normal', 'Probe', 'DoS', 'U2R', 'R2L']\n",
    "cm = confusion_matrix(y_eval2, y_pred2)\n",
    "plot_confusion_matrix(cm, labels, classes=list(range(4)), normalize=False, title='Confusion matrix')\n",
    "plot_confusion_matrix(cm, labels, classes=list(range(4)), normalize=True, title='Confusion matrix normalized')\n",
    "print(\"Each row adds 1 in total\")\n"
   ]
  },
  {
   "cell_type": "markdown",
   "metadata": {
    "colab_type": "text",
    "id": "GoTzUcxj1pXp"
   },
   "source": [
    "## **Error parameters**"
   ]
  },
  {
   "cell_type": "code",
   "execution_count": 10,
   "metadata": {
    "colab": {
     "base_uri": "https://localhost:8080/",
     "height": 317
    },
    "colab_type": "code",
    "executionInfo": {
     "elapsed": 3117881,
     "status": "ok",
     "timestamp": 1583842475350,
     "user": {
      "displayName": "Alvaro Gómez Mártinez",
      "photoUrl": "https://lh3.googleusercontent.com/a-/AOh14Gh4W7226uF2-JPAQDYT72XO5-IpBM-crzSpNrml=s64",
      "userId": "02610568617826548145"
     },
     "user_tz": -60
    },
    "id": "5C6BY9vfU1ww",
    "outputId": "6cdbd140-e215-4e52-aff7-9e6c76745076"
   },
   "outputs": [
    {
     "name": "stdout",
     "output_type": "stream",
     "text": [
      "Printing the parameters of each class...\n",
      "\n",
      "\n"
     ]
    },
    {
     "name": "stderr",
     "output_type": "stream",
     "text": [
      "C:\\Users\\Alvaro\\.conda\\envs\\tensorflow\\lib\\site-packages\\ipykernel_launcher.py:38: RuntimeWarning: invalid value encountered in longlong_scalars\n"
     ]
    },
    {
     "data": {
      "text/html": [
       "<div>\n",
       "<style scoped>\n",
       "    .dataframe tbody tr th:only-of-type {\n",
       "        vertical-align: middle;\n",
       "    }\n",
       "\n",
       "    .dataframe tbody tr th {\n",
       "        vertical-align: top;\n",
       "    }\n",
       "\n",
       "    .dataframe thead th {\n",
       "        text-align: right;\n",
       "    }\n",
       "</style>\n",
       "<table border=\"1\" class=\"dataframe\">\n",
       "  <thead>\n",
       "    <tr style=\"text-align: right;\">\n",
       "      <th></th>\n",
       "      <th>TP</th>\n",
       "      <th>FP</th>\n",
       "      <th>FN</th>\n",
       "      <th>TN</th>\n",
       "      <th>FPR/FAR(%)</th>\n",
       "      <th>TNR(%)</th>\n",
       "      <th>FNR(%)</th>\n",
       "      <th>TPR/DR(%)</th>\n",
       "      <th>Accuracy(%)</th>\n",
       "      <th>Precision(%)</th>\n",
       "      <th>Recall(%)</th>\n",
       "      <th>F1 Score(%)</th>\n",
       "    </tr>\n",
       "  </thead>\n",
       "  <tbody>\n",
       "    <tr>\n",
       "      <th>Normal</th>\n",
       "      <td>33317.0</td>\n",
       "      <td>447.0</td>\n",
       "      <td>293.0</td>\n",
       "      <td>28930.0</td>\n",
       "      <td>1.52</td>\n",
       "      <td>98.48</td>\n",
       "      <td>0.87</td>\n",
       "      <td>99.13</td>\n",
       "      <td>98.83</td>\n",
       "      <td>98.68</td>\n",
       "      <td>99.13</td>\n",
       "      <td>98.90</td>\n",
       "    </tr>\n",
       "    <tr>\n",
       "      <th>Probe</th>\n",
       "      <td>5635.0</td>\n",
       "      <td>137.0</td>\n",
       "      <td>212.0</td>\n",
       "      <td>57003.0</td>\n",
       "      <td>0.24</td>\n",
       "      <td>99.76</td>\n",
       "      <td>3.63</td>\n",
       "      <td>96.37</td>\n",
       "      <td>99.45</td>\n",
       "      <td>97.63</td>\n",
       "      <td>96.37</td>\n",
       "      <td>97.00</td>\n",
       "    </tr>\n",
       "    <tr>\n",
       "      <th>DoS</th>\n",
       "      <td>22951.0</td>\n",
       "      <td>128.0</td>\n",
       "      <td>38.0</td>\n",
       "      <td>39870.0</td>\n",
       "      <td>0.32</td>\n",
       "      <td>99.68</td>\n",
       "      <td>0.17</td>\n",
       "      <td>99.83</td>\n",
       "      <td>99.74</td>\n",
       "      <td>99.45</td>\n",
       "      <td>99.83</td>\n",
       "      <td>99.64</td>\n",
       "    </tr>\n",
       "    <tr>\n",
       "      <th>U2R</th>\n",
       "      <td>0.0</td>\n",
       "      <td>0.0</td>\n",
       "      <td>23.0</td>\n",
       "      <td>62964.0</td>\n",
       "      <td>0.00</td>\n",
       "      <td>100.00</td>\n",
       "      <td>100.00</td>\n",
       "      <td>0.00</td>\n",
       "      <td>99.96</td>\n",
       "      <td>NaN</td>\n",
       "      <td>0.00</td>\n",
       "      <td>NaN</td>\n",
       "    </tr>\n",
       "    <tr>\n",
       "      <th>R2L</th>\n",
       "      <td>314.0</td>\n",
       "      <td>58.0</td>\n",
       "      <td>204.0</td>\n",
       "      <td>62411.0</td>\n",
       "      <td>0.09</td>\n",
       "      <td>99.91</td>\n",
       "      <td>39.38</td>\n",
       "      <td>60.62</td>\n",
       "      <td>99.58</td>\n",
       "      <td>84.41</td>\n",
       "      <td>60.62</td>\n",
       "      <td>70.56</td>\n",
       "    </tr>\n",
       "  </tbody>\n",
       "</table>\n",
       "</div>"
      ],
      "text/plain": [
       "             TP     FP     FN       TN  FPR/FAR(%)  TNR(%)  FNR(%)  TPR/DR(%)  \\\n",
       "Normal  33317.0  447.0  293.0  28930.0        1.52   98.48    0.87      99.13   \n",
       "Probe    5635.0  137.0  212.0  57003.0        0.24   99.76    3.63      96.37   \n",
       "DoS     22951.0  128.0   38.0  39870.0        0.32   99.68    0.17      99.83   \n",
       "U2R         0.0    0.0   23.0  62964.0        0.00  100.00  100.00       0.00   \n",
       "R2L       314.0   58.0  204.0  62411.0        0.09   99.91   39.38      60.62   \n",
       "\n",
       "        Accuracy(%)  Precision(%)  Recall(%)  F1 Score(%)  \n",
       "Normal        98.83         98.68      99.13        98.90  \n",
       "Probe         99.45         97.63      96.37        97.00  \n",
       "DoS           99.74         99.45      99.83        99.64  \n",
       "U2R           99.96           NaN       0.00          NaN  \n",
       "R2L           99.58         84.41      60.62        70.56  "
      ]
     },
     "execution_count": 10,
     "metadata": {},
     "output_type": "execute_result"
    }
   ],
   "source": [
    "print(\"Printing the parameters of each class...\")\n",
    "print(\"\\n\")\n",
    "# TP\n",
    "TP = np.diag(cm)\n",
    "\n",
    "# FP\n",
    "FP = []\n",
    "for i in range(cm.shape[0]):\n",
    "    FP.append(sum(cm[:,i]) - cm[i,i])\n",
    "\n",
    "# FN    \n",
    "FN = []\n",
    "for i in range(cm.shape[0]):\n",
    "    FN.append(sum(cm[i,:]) - cm[i,i])    \n",
    "\n",
    "# TN\n",
    "TN = []\n",
    "for i in range(cm.shape[0]):\n",
    "    temp = np.delete(cm, i, 0)   # delete ith row\n",
    "    temp = np.delete(temp, i, 1)  # delete ith column\n",
    "    TN.append(sum(sum(temp)))   \n",
    "\n",
    "# Creating the lists\n",
    "FPR = []\n",
    "TNR = []\n",
    "FNR = []\n",
    "TPR = []\n",
    "ACC = []\n",
    "PRE = []\n",
    "REC = []\n",
    "F1 = []\n",
    "for i in range(cm.shape[0]):\n",
    "    fpri = FP[i]/(TN[i]+FP[i])*100\n",
    "    tnri = TN[i]/(TN[i]+FP[i])*100\n",
    "    fnri = FN[i]/(FN[i]+TP[i])*100\n",
    "    tpri = TP[i]/(TP[i]+FN[i])*100\n",
    "    acci = (TP[i]+TN[i])/(TP[i]+FN[i]+TN[i]+FP[i])*100\n",
    "    prei = TP[i]/(TP[i]+FP[i])*100\n",
    "    reci = TP[i]/(TP[i]+FN[i])*100\n",
    "    f1i = 2*(prei*reci)/(prei+reci)\n",
    "\n",
    "    FPR.append(round(fpri,2))\n",
    "    TNR.append(round(tnri,2))\n",
    "    FNR.append(round(fnri,2))\n",
    "    TPR.append(round(tpri,2))\n",
    "    ACC.append(round(acci,2))\n",
    "    PRE.append(round(prei,2))\n",
    "    REC.append(round(reci,2))\n",
    "    F1.append(round(f1i,2))\n",
    "\n",
    "# Making a dataframe for printing a table\n",
    "TPs=np.asarray(TP)\n",
    "FPs=np.asarray(FP)\n",
    "FNs=np.asarray(FN)\n",
    "TNs=np.asarray(TN)\n",
    "FPRs=np.asarray(FPR)\n",
    "TNRs=np.asarray(TNR)\n",
    "FNRs=np.asarray(FNR)\n",
    "TPRs=np.asarray(TPR)\n",
    "ACCs=np.asarray(ACC)\n",
    "PREs=np.asarray(PRE)\n",
    "RECs=np.asarray(REC)\n",
    "F1s=np.asarray(F1)\n",
    "\n",
    "TPt= TPs.reshape(TPs.shape[0], 1)\n",
    "FPt= FPs.reshape(FPs.shape[0], 1)\n",
    "FNt= FNs.reshape(FNs.shape[0], 1)\n",
    "TNt= TNs.reshape(TNs.shape[0], 1)\n",
    "FPRt= FPRs.reshape(FPRs.shape[0], 1)\n",
    "TNRt= TNRs.reshape(TNRs.shape[0], 1)\n",
    "FNRt= FNRs.reshape(FNRs.shape[0], 1)\n",
    "TPRt= TPRs.reshape(TPRs.shape[0], 1)\n",
    "ACCt= ACCs.reshape(ACCs.shape[0], 1)\n",
    "PREt= PREs.reshape(PREs.shape[0], 1)\n",
    "RECt= RECs.reshape(RECs.shape[0], 1)\n",
    "F1t= F1s.reshape(F1s.shape[0], 1)\n",
    "\n",
    "param = np.concatenate((TPt, FPt, FNt, TNt, FPRt, TNRt, FNRt, TPRt, ACCt, PREt, RECt, F1t), axis=1)\n",
    "\n",
    "dfParam= pd.DataFrame(param, columns = ['TP', 'FP', 'FN', 'TN', 'FPR/FAR(%)', 'TNR(%)', 'FNR(%)', 'TPR/DR(%)', 'Accuracy(%)', 'Precision(%)', 'Recall(%)', 'F1 Score(%)'], index=labels)\n",
    "\n",
    "dfParam[0:len(labels)]"
   ]
  },
  {
   "cell_type": "markdown",
   "metadata": {
    "colab_type": "text",
    "id": "oVN4Y6Lq3LmR"
   },
   "source": [
    "## **ROC**"
   ]
  },
  {
   "cell_type": "code",
   "execution_count": 11,
   "metadata": {
    "colab": {
     "base_uri": "https://localhost:8080/",
     "height": 1000
    },
    "colab_type": "code",
    "executionInfo": {
     "elapsed": 3118705,
     "status": "ok",
     "timestamp": 1583842476180,
     "user": {
      "displayName": "Alvaro Gómez Mártinez",
      "photoUrl": "https://lh3.googleusercontent.com/a-/AOh14Gh4W7226uF2-JPAQDYT72XO5-IpBM-crzSpNrml=s64",
      "userId": "02610568617826548145"
     },
     "user_tz": -60
    },
    "id": "tyg7k62-U1wy",
    "outputId": "827cf157-ddf2-4427-f447-3d3e82859497"
   },
   "outputs": [
    {
     "data": {
      "image/png": "[encoded data removed]",
      "text/plain": [
       "<Figure size 432x288 with 1 Axes>"
      ]
     },
     "metadata": {
      "needs_background": "light"
     },
     "output_type": "display_data"
    },
    {
     "data": {
      "image/png": "[encoded data removed]",
      "text/plain": [
       "<Figure size 432x288 with 1 Axes>"
      ]
     },
     "metadata": {
      "needs_background": "light"
     },
     "output_type": "display_data"
    },
    {
     "data": {
      "image/png": "[encoded data removed]",
      "text/plain": [
       "<Figure size 432x288 with 1 Axes>"
      ]
     },
     "metadata": {
      "needs_background": "light"
     },
     "output_type": "display_data"
    },
    {
     "data": {
      "image/png": "[encoded data removed]",
      "text/plain": [
       "<Figure size 432x288 with 1 Axes>"
      ]
     },
     "metadata": {
      "needs_background": "light"
     },
     "output_type": "display_data"
    },
    {
     "data": {
      "image/png": "[encoded data removed]",
      "text/plain": [
       "<Figure size 432x288 with 1 Axes>"
      ]
     },
     "metadata": {
      "needs_background": "light"
     },
     "output_type": "display_data"
    }
   ],
   "source": [
    "# ROC\n",
    "def plot_roc_curve(Y_test, Y_pred, classes, labels):\n",
    "    from sklearn import metrics\n",
    "    import matplotlib.pyplot as plt\n",
    "    fpr = dict()\n",
    "    tpr = dict()\n",
    "    roc_auc = dict()\n",
    "    for i in range(classes):\n",
    "        fpr[i], tpr[i], _ = metrics.roc_curve(Y_test[:, i], Y_pred[:, i])\n",
    "        roc_auc[i] = metrics.auc(fpr[i], tpr[i])   \n",
    "    # Compute micro-average ROC curve and ROC area\n",
    "    fpr[\"micro\"], tpr[\"micro\"], _ = metrics.roc_curve(Y_test.ravel(), Y_pred.ravel())\n",
    "    roc_auc[\"micro\"] = metrics.auc(fpr[\"micro\"], tpr[\"micro\"])   \n",
    "    #plt.figure()\n",
    "    lw = 2\n",
    "    plt.rcParams[\"figure.figsize\"] = [6,4]\n",
    "    for i in range(classes):\n",
    "      plt.plot(fpr[i], tpr[i], color='darkorange',\n",
    "              lw=lw, label='ROC curve (area = %0.4f)' % roc_auc[i])\n",
    "      plt.plot([0, 1], [0, 1], color='navy', lw=lw, linestyle='--')\n",
    "      plt.xlim([0.0, 1.0])\n",
    "      plt.ylim([0.0, 1.05])\n",
    "      plt.xlabel('False Positive Rate')\n",
    "      plt.ylabel('True Positive Rate')\n",
    "      plt.title('Receiver operating characteristic (class '+ str(i+1) +', '+ labels[i] +')')\n",
    "      plt.legend(loc=\"lower right\")\n",
    "      plt.show()\n",
    "\n",
    "plot_roc_curve(y_testT, y_predT, len(labels), labels)\n"
   ]
  }
 ],
 "metadata": {
  "accelerator": "TPU",
  "colab": {
   "collapsed_sections": [],
   "name": "5idsnslkddGCTPUoptLSTM.ipynb",
   "provenance": [
    {
     "file_id": "1JeTuvhegCAp6hoOtMM9t6hj_SZUr8OXX",
     "timestamp": 1580906507296
    }
   ]
  },
  "kernelspec": {
   "display_name": "Python 3",
   "language": "python",
   "name": "python3"
  },
  "language_info": {
   "codemirror_mode": {
    "name": "ipython",
    "version": 3
   },
   "file_extension": ".py",
   "mimetype": "text/x-python",
   "name": "python",
   "nbconvert_exporter": "python",
   "pygments_lexer": "ipython3",
   "version": "3.7.6"
  }
 },
 "nbformat": 4,
 "nbformat_minor": 1
}
