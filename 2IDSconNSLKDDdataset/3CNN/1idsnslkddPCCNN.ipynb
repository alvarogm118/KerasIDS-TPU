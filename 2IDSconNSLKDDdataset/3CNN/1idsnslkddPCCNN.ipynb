{
 "cells": [
  {
   "cell_type": "markdown",
   "metadata": {
    "colab_type": "text",
    "id": "CtKt-NGDrQEQ"
   },
   "source": [
    "## **Read in Raw NSL-KDD Dataset**"
   ]
  },
  {
   "cell_type": "code",
   "execution_count": 1,
   "metadata": {
    "colab": {
     "base_uri": "https://localhost:8080/",
     "height": 338
    },
    "colab_type": "code",
    "executionInfo": {
     "elapsed": 3022,
     "status": "ok",
     "timestamp": 1583858574627,
     "user": {
      "displayName": "Alvaro GM",
      "photoUrl": "https://lh3.googleusercontent.com/a-/AOh14GhyBfY1VN0oaSI7yqkaADWvPeJ4kSku-Q6-6n1m=s64",
      "userId": "05381266810485722805"
     },
     "user_tz": -60
    },
    "id": "9XwJaLMhU1wY",
    "outputId": "bac18a74-a1f3-4001-e441-19bf42ca2a00"
   },
   "outputs": [
    {
     "name": "stdout",
     "output_type": "stream",
     "text": [
      "C:\\Users\\Alvaro\\.keras\\datasets\\NSL_KDD_Train.csv\n",
      "Read 125973 rows.\n"
     ]
    },
    {
     "data": {
      "text/html": [
       "<div>\n",
       "<style scoped>\n",
       "    .dataframe tbody tr th:only-of-type {\n",
       "        vertical-align: middle;\n",
       "    }\n",
       "\n",
       "    .dataframe tbody tr th {\n",
       "        vertical-align: top;\n",
       "    }\n",
       "\n",
       "    .dataframe thead th {\n",
       "        text-align: right;\n",
       "    }\n",
       "</style>\n",
       "<table border=\"1\" class=\"dataframe\">\n",
       "  <thead>\n",
       "    <tr style=\"text-align: right;\">\n",
       "      <th></th>\n",
       "      <th>duration</th>\n",
       "      <th>protocol_type</th>\n",
       "      <th>service</th>\n",
       "      <th>flag</th>\n",
       "      <th>src_bytes</th>\n",
       "      <th>dst_bytes</th>\n",
       "      <th>land</th>\n",
       "      <th>wrong_fragment</th>\n",
       "      <th>urgent</th>\n",
       "      <th>hot</th>\n",
       "      <th>...</th>\n",
       "      <th>dst_host_srv_count</th>\n",
       "      <th>dst_host_same_srv_rate</th>\n",
       "      <th>dst_host_diff_srv_rate</th>\n",
       "      <th>dst_host_same_src_port_rate</th>\n",
       "      <th>dst_host_srv_diff_host_rate</th>\n",
       "      <th>dst_host_serror_rate</th>\n",
       "      <th>dst_host_srv_serror_rate</th>\n",
       "      <th>dst_host_rerror_rate</th>\n",
       "      <th>dst_host_srv_rerror_rate</th>\n",
       "      <th>label</th>\n",
       "    </tr>\n",
       "  </thead>\n",
       "  <tbody>\n",
       "    <tr>\n",
       "      <th>0</th>\n",
       "      <td>0</td>\n",
       "      <td>tcp</td>\n",
       "      <td>ftp_data</td>\n",
       "      <td>SF</td>\n",
       "      <td>491</td>\n",
       "      <td>0</td>\n",
       "      <td>0</td>\n",
       "      <td>0</td>\n",
       "      <td>0</td>\n",
       "      <td>0</td>\n",
       "      <td>...</td>\n",
       "      <td>25</td>\n",
       "      <td>0.17</td>\n",
       "      <td>0.03</td>\n",
       "      <td>0.17</td>\n",
       "      <td>0.00</td>\n",
       "      <td>0.00</td>\n",
       "      <td>0.00</td>\n",
       "      <td>0.05</td>\n",
       "      <td>0.00</td>\n",
       "      <td>normal</td>\n",
       "    </tr>\n",
       "    <tr>\n",
       "      <th>1</th>\n",
       "      <td>0</td>\n",
       "      <td>udp</td>\n",
       "      <td>other</td>\n",
       "      <td>SF</td>\n",
       "      <td>146</td>\n",
       "      <td>0</td>\n",
       "      <td>0</td>\n",
       "      <td>0</td>\n",
       "      <td>0</td>\n",
       "      <td>0</td>\n",
       "      <td>...</td>\n",
       "      <td>1</td>\n",
       "      <td>0.00</td>\n",
       "      <td>0.60</td>\n",
       "      <td>0.88</td>\n",
       "      <td>0.00</td>\n",
       "      <td>0.00</td>\n",
       "      <td>0.00</td>\n",
       "      <td>0.00</td>\n",
       "      <td>0.00</td>\n",
       "      <td>normal</td>\n",
       "    </tr>\n",
       "    <tr>\n",
       "      <th>2</th>\n",
       "      <td>0</td>\n",
       "      <td>tcp</td>\n",
       "      <td>private</td>\n",
       "      <td>S0</td>\n",
       "      <td>0</td>\n",
       "      <td>0</td>\n",
       "      <td>0</td>\n",
       "      <td>0</td>\n",
       "      <td>0</td>\n",
       "      <td>0</td>\n",
       "      <td>...</td>\n",
       "      <td>26</td>\n",
       "      <td>0.10</td>\n",
       "      <td>0.05</td>\n",
       "      <td>0.00</td>\n",
       "      <td>0.00</td>\n",
       "      <td>1.00</td>\n",
       "      <td>1.00</td>\n",
       "      <td>0.00</td>\n",
       "      <td>0.00</td>\n",
       "      <td>neptune</td>\n",
       "    </tr>\n",
       "    <tr>\n",
       "      <th>3</th>\n",
       "      <td>0</td>\n",
       "      <td>tcp</td>\n",
       "      <td>http</td>\n",
       "      <td>SF</td>\n",
       "      <td>232</td>\n",
       "      <td>8153</td>\n",
       "      <td>0</td>\n",
       "      <td>0</td>\n",
       "      <td>0</td>\n",
       "      <td>0</td>\n",
       "      <td>...</td>\n",
       "      <td>255</td>\n",
       "      <td>1.00</td>\n",
       "      <td>0.00</td>\n",
       "      <td>0.03</td>\n",
       "      <td>0.04</td>\n",
       "      <td>0.03</td>\n",
       "      <td>0.01</td>\n",
       "      <td>0.00</td>\n",
       "      <td>0.01</td>\n",
       "      <td>normal</td>\n",
       "    </tr>\n",
       "    <tr>\n",
       "      <th>4</th>\n",
       "      <td>0</td>\n",
       "      <td>tcp</td>\n",
       "      <td>http</td>\n",
       "      <td>SF</td>\n",
       "      <td>199</td>\n",
       "      <td>420</td>\n",
       "      <td>0</td>\n",
       "      <td>0</td>\n",
       "      <td>0</td>\n",
       "      <td>0</td>\n",
       "      <td>...</td>\n",
       "      <td>255</td>\n",
       "      <td>1.00</td>\n",
       "      <td>0.00</td>\n",
       "      <td>0.00</td>\n",
       "      <td>0.00</td>\n",
       "      <td>0.00</td>\n",
       "      <td>0.00</td>\n",
       "      <td>0.00</td>\n",
       "      <td>0.00</td>\n",
       "      <td>normal</td>\n",
       "    </tr>\n",
       "  </tbody>\n",
       "</table>\n",
       "<p>5 rows × 42 columns</p>\n",
       "</div>"
      ],
      "text/plain": [
       "   duration protocol_type   service flag  src_bytes  dst_bytes  land  \\\n",
       "0         0           tcp  ftp_data   SF        491          0     0   \n",
       "1         0           udp     other   SF        146          0     0   \n",
       "2         0           tcp   private   S0          0          0     0   \n",
       "3         0           tcp      http   SF        232       8153     0   \n",
       "4         0           tcp      http   SF        199        420     0   \n",
       "\n",
       "   wrong_fragment  urgent  hot  ...  dst_host_srv_count  \\\n",
       "0               0       0    0  ...                  25   \n",
       "1               0       0    0  ...                   1   \n",
       "2               0       0    0  ...                  26   \n",
       "3               0       0    0  ...                 255   \n",
       "4               0       0    0  ...                 255   \n",
       "\n",
       "   dst_host_same_srv_rate  dst_host_diff_srv_rate  \\\n",
       "0                    0.17                    0.03   \n",
       "1                    0.00                    0.60   \n",
       "2                    0.10                    0.05   \n",
       "3                    1.00                    0.00   \n",
       "4                    1.00                    0.00   \n",
       "\n",
       "   dst_host_same_src_port_rate  dst_host_srv_diff_host_rate  \\\n",
       "0                         0.17                         0.00   \n",
       "1                         0.88                         0.00   \n",
       "2                         0.00                         0.00   \n",
       "3                         0.03                         0.04   \n",
       "4                         0.00                         0.00   \n",
       "\n",
       "   dst_host_serror_rate  dst_host_srv_serror_rate  dst_host_rerror_rate  \\\n",
       "0                  0.00                      0.00                  0.05   \n",
       "1                  0.00                      0.00                  0.00   \n",
       "2                  1.00                      1.00                  0.00   \n",
       "3                  0.03                      0.01                  0.00   \n",
       "4                  0.00                      0.00                  0.00   \n",
       "\n",
       "   dst_host_srv_rerror_rate    label  \n",
       "0                      0.00   normal  \n",
       "1                      0.00   normal  \n",
       "2                      0.00  neptune  \n",
       "3                      0.01   normal  \n",
       "4                      0.00   normal  \n",
       "\n",
       "[5 rows x 42 columns]"
      ]
     },
     "execution_count": 1,
     "metadata": {},
     "output_type": "execute_result"
    }
   ],
   "source": [
    "import pandas as pd\n",
    "from tensorflow.keras.utils import get_file\n",
    "\n",
    "try:\n",
    "    path = get_file('NSL_KDD_Train.csv', origin='https://raw.githubusercontent.com/merteroglu/NSL-KDD-Network-Instrusion-Detection/master/NSL_KDD_Train.csv')\n",
    "except:\n",
    "    print('Error downloading')\n",
    "    raise\n",
    "    \n",
    "print(path) \n",
    "\n",
    "# This file is a CSV, just no CSV extension or headers\n",
    "# Download from: http://kdd.ics.uci.edu/databases/kddcup99/kddcup99.html\n",
    "df = pd.read_csv(path, header=None)\n",
    "\n",
    "print(\"Read {} rows.\".format(len(df)))\n",
    "# df = df.sample(frac=0.1, replace=False) # Uncomment this line to sample only 10% of the dataset\n",
    "df.dropna(inplace=True,axis=1) # For now, just drop NA's (rows with missing values)\n",
    "\n",
    "# The CSV file has no column heads, so add them\n",
    "df.columns = [\n",
    "    'duration',\n",
    "    'protocol_type',\n",
    "    'service',\n",
    "    'flag',\n",
    "    'src_bytes',\n",
    "    'dst_bytes',\n",
    "    'land',\n",
    "    'wrong_fragment',\n",
    "    'urgent',\n",
    "    'hot',\n",
    "    'num_failed_logins',\n",
    "    'logged_in',\n",
    "    'num_compromised',\n",
    "    'root_shell',\n",
    "    'su_attempted',\n",
    "    'num_root',\n",
    "    'num_file_creations',\n",
    "    'num_shells',\n",
    "    'num_access_files',\n",
    "    'num_outbound_cmds',\n",
    "    'is_host_login',\n",
    "    'is_guest_login',\n",
    "    'count',\n",
    "    'srv_count',\n",
    "    'serror_rate',\n",
    "    'srv_serror_rate',\n",
    "    'rerror_rate',\n",
    "    'srv_rerror_rate',\n",
    "    'same_srv_rate',\n",
    "    'diff_srv_rate',\n",
    "    'srv_diff_host_rate',\n",
    "    'dst_host_count',\n",
    "    'dst_host_srv_count',\n",
    "    'dst_host_same_srv_rate',\n",
    "    'dst_host_diff_srv_rate',\n",
    "    'dst_host_same_src_port_rate',\n",
    "    'dst_host_srv_diff_host_rate',\n",
    "    'dst_host_serror_rate',\n",
    "    'dst_host_srv_serror_rate',\n",
    "    'dst_host_rerror_rate',\n",
    "    'dst_host_srv_rerror_rate',\n",
    "    'label'\n",
    "]\n",
    "\n",
    "# display 5 rows\n",
    "df[0:5]"
   ]
  },
  {
   "cell_type": "markdown",
   "metadata": {
    "colab_type": "text",
    "id": "fTq-eyf6ras8"
   },
   "source": [
    "## **Analyzing the Dataset**"
   ]
  },
  {
   "cell_type": "code",
   "execution_count": 2,
   "metadata": {
    "colab": {},
    "colab_type": "code",
    "id": "pQ9bJrriU1we"
   },
   "outputs": [],
   "source": [
    "ENCODING = 'utf-8'\n",
    "\n",
    "def expand_categories(values):\n",
    "    result = []\n",
    "    s = values.value_counts()\n",
    "    t = float(len(values))\n",
    "    for v in s.index:\n",
    "        result.append(\"{}:{}%\".format(v,round(100*(s[v]/t),2)))\n",
    "    return \"[{}]\".format(\",\".join(result))\n",
    "        \n",
    "def analyze(df):\n",
    "    print()\n",
    "    cols = df.columns.values\n",
    "    total = float(len(df))\n",
    "\n",
    "    print(\"{} rows\".format(int(total)))\n",
    "    for col in cols:\n",
    "        uniques = df[col].unique()\n",
    "        unique_count = len(uniques)\n",
    "        if unique_count>100:\n",
    "            print(\"** {}:{} ({}%)\".format(col,unique_count,int(((unique_count)/total)*100)))\n",
    "        else:\n",
    "            print(\"** {}:{}\".format(col,expand_categories(df[col])))\n",
    "            expand_categories(df[col])"
   ]
  },
  {
   "cell_type": "code",
   "execution_count": 3,
   "metadata": {
    "colab": {
     "base_uri": "https://localhost:8080/",
     "height": 800
    },
    "colab_type": "code",
    "executionInfo": {
     "elapsed": 4034,
     "status": "ok",
     "timestamp": 1583858575684,
     "user": {
      "displayName": "Alvaro GM",
      "photoUrl": "https://lh3.googleusercontent.com/a-/AOh14GhyBfY1VN0oaSI7yqkaADWvPeJ4kSku-Q6-6n1m=s64",
      "userId": "05381266810485722805"
     },
     "user_tz": -60
    },
    "id": "DCKAYORpU1wh",
    "outputId": "ea3848c3-69e9-450f-c2f8-e40ce13e310a"
   },
   "outputs": [
    {
     "name": "stdout",
     "output_type": "stream",
     "text": [
      "\n",
      "125973 rows\n",
      "** duration:2981 (2%)\n",
      "** protocol_type:[tcp:81.52%,udp:11.9%,icmp:6.58%]\n",
      "** service:[http:32.02%,private:17.35%,domain_u:7.18%,smtp:5.81%,ftp_data:5.45%,eco_i:3.64%,other:3.46%,ecr_i:2.44%,telnet:1.87%,finger:1.4%,ftp:1.39%,auth:0.76%,Z39_50:0.68%,uucp:0.62%,courier:0.58%,bgp:0.56%,whois:0.55%,uucp_path:0.55%,iso_tsap:0.55%,time:0.52%,imap4:0.51%,nnsp:0.5%,vmnet:0.49%,urp_i:0.48%,domain:0.45%,ctf:0.45%,csnet_ns:0.43%,supdup:0.43%,discard:0.43%,http_443:0.42%,daytime:0.41%,gopher:0.41%,efs:0.39%,systat:0.38%,link:0.38%,exec:0.38%,hostnames:0.37%,name:0.36%,mtp:0.35%,echo:0.34%,klogin:0.34%,login:0.34%,ldap:0.33%,netbios_dgm:0.32%,sunrpc:0.3%,netbios_ssn:0.29%,netstat:0.29%,netbios_ns:0.28%,ssh:0.25%,kshell:0.24%,nntp:0.23%,pop_3:0.21%,sql_net:0.19%,IRC:0.15%,ntp_u:0.13%,rje:0.07%,remote_job:0.06%,pop_2:0.06%,X11:0.06%,printer:0.05%,shell:0.05%,urh_i:0.01%,red_i:0.01%,tim_i:0.01%,pm_dump:0.0%,tftp_u:0.0%,http_8001:0.0%,harvest:0.0%,aol:0.0%,http_2784:0.0%]\n",
      "** flag:[SF:59.49%,S0:27.67%,REJ:8.92%,RSTR:1.92%,RSTO:1.24%,S1:0.29%,SH:0.22%,S2:0.1%,RSTOS0:0.08%,S3:0.04%,OTH:0.04%]\n",
      "** src_bytes:3341 (2%)\n",
      "** dst_bytes:9326 (7%)\n",
      "** land:[0:99.98%,1:0.02%]\n",
      "** wrong_fragment:[0:99.13%,3:0.7%,1:0.16%]\n",
      "** urgent:[0:99.99%,1:0.0%,2:0.0%,3:0.0%]\n",
      "** hot:[0:97.88%,2:0.82%,1:0.29%,28:0.22%,30:0.2%,4:0.14%,6:0.11%,5:0.06%,24:0.05%,19:0.05%,22:0.04%,3:0.04%,18:0.04%,14:0.02%,20:0.01%,7:0.0%,15:0.0%,11:0.0%,44:0.0%,9:0.0%,25:0.0%,8:0.0%,10:0.0%,12:0.0%,33:0.0%,17:0.0%,21:0.0%,77:0.0%]\n",
      "** num_failed_logins:[0:99.9%,1:0.08%,2:0.01%,3:0.0%,4:0.0%,5:0.0%]\n",
      "** logged_in:[0:60.43%,1:39.57%]\n",
      "** num_compromised:[0:98.98%,1:0.77%,2:0.08%,4:0.03%,3:0.03%,6:0.02%,5:0.01%,7:0.0%,9:0.0%,8:0.0%,21:0.0%,31:0.0%,13:0.0%,12:0.0%,151:0.0%,10:0.0%,23:0.0%,371:0.0%,884:0.0%,520:0.0%,15:0.0%,22:0.0%,789:0.0%,405:0.0%,193:0.0%,1043:0.0%,83:0.0%,19:0.0%,258:0.0%,18:0.0%,17:0.0%,16:0.0%,462:0.0%,456:0.0%,78:0.0%,14:0.0%,452:0.0%,716:0.0%,1739:0.0%,75:0.0%,11:0.0%,198:0.0%,74:0.0%,457:0.0%,202:0.0%,767:0.0%,407:0.0%,756:0.0%,174:0.0%,558:0.0%,622:0.0%,175:0.0%,751:0.0%,177:0.0%,307:0.0%,691:0.0%,7479:0.0%,187:0.0%,373:0.0%,54:0.0%,247:0.0%,375:0.0%,568:0.0%,121:0.0%,761:0.0%,378:0.0%,110:0.0%,46:0.0%,237:0.0%,44:0.0%,281:0.0%,345:0.0%,537:0.0%,538:0.0%,157:0.0%,349:0.0%,94:0.0%,543:0.0%,676:0.0%,37:0.0%,38:0.0%,102:0.0%,166:0.0%,40:0.0%,809:0.0%,682:0.0%,107:0.0%,217:0.0%]\n",
      "** root_shell:[0:99.87%,1:0.13%]\n",
      "** su_attempted:[0:99.94%,2:0.05%,1:0.02%]\n",
      "** num_root:[0:99.48%,1:0.22%,9:0.1%,6:0.08%,2:0.03%,5:0.02%,4:0.01%,3:0.01%,7:0.0%,36:0.0%,421:0.0%,39:0.0%,10:0.0%,857:0.0%,71:0.0%,8:0.0%,151:0.0%,278:0.0%,22:0.0%,1045:0.0%,789:0.0%,402:0.0%,338:0.0%,146:0.0%,512:0.0%,849:0.0%,450:0.0%,17:0.0%,387:0.0%,16:0.0%,1743:0.0%,975:0.0%,206:0.0%,14:0.0%,77:0.0%,218:0.0%,12:0.0%,74:0.0%,261:0.0%,841:0.0%,390:0.0%,204:0.0%,191:0.0%,91:0.0%,121:0.0%,629:0.0%,54:0.0%,502:0.0%,55:0.0%,119:0.0%,247:0.0%,184:0.0%,505:0.0%,754:0.0%,889:0.0%,123:0.0%,187:0.0%,508:0.0%,572:0.0%,190:0.0%,446:0.0%,179:0.0%,626:0.0%,766:0.0%,867:0.0%,222:0.0%,287:0.0%,416:0.0%,417:0.0%,993:0.0%,610:0.0%,611:0.0%,100:0.0%,7468:0.0%,38:0.0%,40:0.0%,104:0.0%,425:0.0%,684:0.0%,749:0.0%,47:0.0%,605:0.0%]\n",
      "** num_file_creations:[0:99.77%,1:0.12%,2:0.03%,4:0.01%,15:0.0%,3:0.0%,5:0.0%,8:0.0%,10:0.0%,17:0.0%,12:0.0%,7:0.0%,11:0.0%,18:0.0%,26:0.0%,6:0.0%,14:0.0%,25:0.0%,20:0.0%,40:0.0%,13:0.0%,23:0.0%,9:0.0%,16:0.0%,29:0.0%,38:0.0%,36:0.0%,34:0.0%,33:0.0%,28:0.0%,22:0.0%,21:0.0%,27:0.0%,19:0.0%,43:0.0%]\n",
      "** num_shells:[0:99.96%,1:0.03%,2:0.0%]\n",
      "** num_access_files:[0:99.71%,1:0.25%,2:0.02%,3:0.01%,5:0.0%,4:0.0%,6:0.0%,8:0.0%,7:0.0%,9:0.0%]\n",
      "** num_outbound_cmds:[0:100.0%]\n",
      "** is_host_login:[0:100.0%,1:0.0%]\n",
      "** is_guest_login:[0:99.06%,1:0.94%]\n",
      "** count:512 (0%)\n",
      "** srv_count:509 (0%)\n",
      "** serror_rate:[0.0:68.93%,1.0:27.34%,0.5:0.39%,0.33:0.25%,0.07:0.24%,0.06:0.24%,0.08:0.2%,0.99:0.2%,0.01:0.17%,0.25:0.17%,0.05:0.15%,0.09:0.15%,0.1:0.14%,0.2:0.12%,0.03:0.12%,0.04:0.1%,0.17:0.09%,0.11:0.09%,0.14:0.08%,0.02:0.07%,0.97:0.06%,0.12:0.06%,0.98:0.05%,0.16:0.04%,0.96:0.03%,0.13:0.03%,0.21:0.03%,0.23:0.03%,0.18:0.03%,0.22:0.03%,0.95:0.02%,0.15:0.02%,0.94:0.02%,0.19:0.02%,0.93:0.01%,0.64:0.01%,0.75:0.01%,0.67:0.01%,0.83:0.01%,0.92:0.01%,0.8:0.01%,0.79:0.01%,0.65:0.01%,0.78:0.01%,0.63:0.01%,0.86:0.01%,0.24:0.01%,0.85:0.01%,0.66:0.01%,0.68:0.01%,0.74:0.01%,0.62:0.01%,0.91:0.01%,0.69:0.01%,0.59:0.01%,0.7:0.01%,0.58:0.01%,0.81:0.01%,0.6:0.01%,0.29:0.01%,0.9:0.0%,0.88:0.0%,0.89:0.0%,0.72:0.0%,0.73:0.0%,0.4:0.0%,0.76:0.0%,0.71:0.0%,0.77:0.0%,0.27:0.0%,0.61:0.0%,0.52:0.0%,0.84:0.0%,0.51:0.0%,0.53:0.0%,0.44:0.0%,0.56:0.0%,0.54:0.0%,0.55:0.0%,0.82:0.0%,0.43:0.0%,0.26:0.0%,0.28:0.0%,0.57:0.0%,0.35:0.0%,0.36:0.0%,0.37:0.0%,0.87:0.0%,0.3:0.0%]\n",
      "** srv_serror_rate:[0.0:70.45%,1.0:27.68%,0.5:0.34%,0.33:0.22%,0.25:0.18%,0.2:0.1%,0.17:0.09%,0.05:0.07%,0.03:0.07%,0.04:0.07%,0.07:0.05%,0.06:0.05%,0.08:0.05%,0.02:0.05%,0.14:0.05%,0.67:0.04%,0.12:0.04%,0.09:0.03%,0.1:0.03%,0.95:0.03%,0.11:0.03%,0.22:0.02%,0.29:0.02%,0.4:0.01%,0.91:0.01%,0.75:0.01%,0.94:0.01%,0.92:0.01%,0.89:0.01%,0.8:0.01%,0.88:0.01%,0.9:0.01%,0.18:0.01%,0.93:0.01%,0.83:0.01%,0.86:0.01%,0.13:0.01%,0.01:0.0%,0.15:0.0%,0.58:0.0%,0.23:0.0%,0.27:0.0%,0.41:0.0%,0.3:0.0%,0.43:0.0%,0.6:0.0%,0.59:0.0%,0.37:0.0%,0.26:0.0%,0.35:0.0%,0.76:0.0%,0.39:0.0%,0.56:0.0%,0.71:0.0%,0.34:0.0%,0.36:0.0%,0.53:0.0%,0.32:0.0%,0.78:0.0%,0.38:0.0%,0.87:0.0%,0.45:0.0%,0.85:0.0%,0.74:0.0%,0.55:0.0%,0.54:0.0%,0.44:0.0%,0.61:0.0%,0.72:0.0%,0.96:0.0%,0.63:0.0%,0.82:0.0%,0.28:0.0%,0.24:0.0%,0.48:0.0%,0.47:0.0%,0.19:0.0%,0.73:0.0%,0.68:0.0%,0.21:0.0%,0.51:0.0%,0.46:0.0%,0.65:0.0%,0.42:0.0%,0.7:0.0%,0.57:0.0%]\n",
      "** rerror_rate:[0.0:87.15%,1.0:10.22%,0.9:0.21%,0.92:0.17%,0.93:0.17%,0.89:0.16%,0.91:0.15%,0.5:0.13%,0.88:0.11%,0.95:0.11%,0.94:0.1%,0.03:0.08%,0.25:0.07%,0.87:0.07%,0.33:0.07%,0.02:0.06%,0.86:0.06%,0.96:0.06%,0.2:0.05%,0.01:0.05%,0.04:0.04%,0.82:0.04%,0.85:0.04%,0.84:0.03%,0.78:0.03%,0.67:0.03%,0.8:0.03%,0.05:0.03%,0.76:0.03%,0.75:0.03%,0.79:0.03%,0.17:0.03%,0.97:0.03%,0.77:0.03%,0.83:0.02%,0.81:0.02%,0.06:0.02%,0.07:0.02%,0.08:0.02%,0.99:0.02%,0.98:0.01%,0.14:0.01%,0.12:0.01%,0.36:0.01%,0.71:0.01%,0.1:0.01%,0.21:0.01%,0.4:0.01%,0.11:0.01%,0.09:0.01%,0.35:0.01%,0.22:0.01%,0.73:0.01%,0.64:0.01%,0.37:0.01%,0.32:0.0%,0.26:0.0%,0.43:0.0%,0.29:0.0%,0.31:0.0%,0.62:0.0%,0.69:0.0%,0.34:0.0%,0.27:0.0%,0.56:0.0%,0.57:0.0%,0.3:0.0%,0.6:0.0%,0.23:0.0%,0.28:0.0%,0.74:0.0%,0.72:0.0%,0.24:0.0%,0.19:0.0%,0.38:0.0%,0.7:0.0%,0.18:0.0%,0.44:0.0%,0.65:0.0%,0.55:0.0%,0.63:0.0%,0.58:0.0%]\n",
      "** srv_rerror_rate:[0.0:87.14%,1.0:11.77%,0.5:0.19%,0.33:0.13%,0.25:0.09%,0.2:0.07%,0.17:0.06%,0.04:0.04%,0.03:0.04%,0.14:0.04%,0.05:0.03%,0.67:0.03%,0.02:0.03%,0.08:0.03%,0.06:0.03%,0.12:0.03%,0.07:0.02%,0.1:0.02%,0.09:0.02%,0.11:0.02%,0.4:0.02%,0.75:0.01%,0.29:0.01%,0.83:0.01%,0.8:0.01%,0.85:0.01%,0.6:0.01%,0.82:0.01%,0.71:0.01%,0.79:0.01%,0.22:0.0%,0.84:0.0%,0.69:0.0%,0.64:0.0%,0.81:0.0%,0.73:0.0%,0.62:0.0%,0.86:0.0%,0.43:0.0%,0.78:0.0%,0.88:0.0%,0.57:0.0%,0.76:0.0%,0.87:0.0%,0.89:0.0%,0.01:0.0%,0.56:0.0%,0.74:0.0%,0.38:0.0%,0.77:0.0%,0.96:0.0%,0.92:0.0%,0.72:0.0%,0.7:0.0%,0.9:0.0%,0.58:0.0%,0.95:0.0%,0.55:0.0%,0.15:0.0%,0.13:0.0%,0.18:0.0%,0.3:0.0%]\n",
      "** same_srv_rate:101 (0%)\n",
      "** diff_srv_rate:[0.0:60.5%,0.06:15.08%,0.07:7.55%,0.05:5.47%,1.0:2.73%,0.08:1.49%,0.01:0.8%,0.09:0.51%,0.04:0.5%,0.5:0.44%,0.67:0.36%,0.1:0.35%,0.12:0.31%,0.11:0.3%,0.03:0.22%,0.6:0.21%,0.02:0.21%,0.29:0.18%,0.14:0.18%,0.33:0.17%,0.13:0.17%,0.15:0.15%,0.17:0.15%,0.25:0.15%,0.4:0.15%,0.52:0.12%,0.18:0.11%,0.2:0.11%,0.22:0.1%,0.19:0.08%,0.16:0.08%,0.38:0.07%,0.21:0.06%,0.75:0.06%,0.27:0.06%,0.24:0.04%,0.36:0.04%,0.53:0.04%,0.57:0.04%,0.31:0.03%,0.54:0.03%,0.23:0.03%,0.95:0.03%,0.99:0.03%,0.43:0.03%,0.3:0.03%,0.42:0.03%,0.44:0.03%,0.96:0.02%,0.55:0.02%,0.41:0.02%,0.28:0.02%,0.8:0.02%,0.26:0.02%,0.37:0.02%,0.56:0.02%,0.39:0.01%,0.58:0.01%,0.32:0.01%,0.71:0.01%,0.45:0.01%,0.64:0.01%,0.51:0.01%,0.62:0.01%,0.69:0.01%,0.46:0.01%,0.35:0.01%,0.73:0.01%,0.83:0.01%,0.47:0.01%,0.78:0.01%,0.82:0.01%,0.97:0.01%,0.98:0.0%,0.77:0.0%,0.7:0.0%,0.59:0.0%,0.92:0.0%,0.61:0.0%,0.76:0.0%,0.79:0.0%,0.88:0.0%,0.86:0.0%,0.74:0.0%,0.72:0.0%,0.65:0.0%,0.87:0.0%,0.85:0.0%,0.81:0.0%,0.89:0.0%,0.63:0.0%,0.9:0.0%,0.48:0.0%,0.91:0.0%,0.68:0.0%]\n",
      "** srv_diff_host_rate:[0.0:77.46%,1.0:6.46%,0.01:2.27%,0.5:0.78%,0.67:0.77%,0.12:0.72%,0.33:0.63%,0.02:0.61%,0.11:0.58%,0.25:0.57%,0.1:0.57%,0.14:0.53%,0.08:0.52%,0.15:0.49%,0.4:0.49%,0.09:0.49%,0.17:0.49%,0.29:0.47%,0.2:0.46%,0.18:0.46%,0.22:0.42%,0.06:0.41%,0.07:0.41%,0.13:0.37%,0.05:0.26%,0.19:0.2%,0.75:0.19%,0.27:0.18%,0.03:0.17%,0.21:0.17%,0.16:0.15%,0.04:0.15%,0.43:0.14%,0.6:0.14%,0.3:0.13%,0.38:0.13%,0.23:0.13%,0.24:0.07%,0.31:0.06%,0.36:0.06%,0.8:0.05%,0.44:0.04%,0.57:0.03%,0.28:0.02%,0.26:0.01%,0.45:0.01%,0.56:0.01%,0.42:0.01%,0.71:0.01%,0.32:0.01%,0.35:0.01%,0.62:0.01%,0.83:0.01%,0.47:0.0%,0.37:0.0%,0.54:0.0%,0.55:0.0%,0.46:0.0%,0.88:0.0%,0.41:0.0%]\n",
      "** dst_host_count:256 (0%)\n",
      "** dst_host_srv_count:256 (0%)\n",
      "** dst_host_same_srv_rate:101 (0%)\n",
      "** dst_host_diff_srv_rate:101 (0%)\n",
      "** dst_host_same_src_port_rate:101 (0%)\n",
      "** dst_host_srv_diff_host_rate:[0.0:68.99%,0.02:6.31%,0.01:5.67%,0.03:3.75%,0.04:3.59%,0.05:2.42%,0.5:1.23%,0.06:1.06%,0.07:0.82%,0.25:0.75%,1.0:0.55%,0.51:0.49%,0.08:0.39%,0.09:0.33%,0.26:0.26%,0.11:0.22%,0.15:0.2%,0.52:0.19%,0.13:0.19%,0.12:0.19%,0.1:0.19%,0.14:0.19%,0.16:0.18%,0.2:0.17%,0.17:0.17%,0.18:0.16%,0.22:0.14%,0.21:0.12%,0.19:0.11%,0.29:0.1%,0.27:0.09%,0.33:0.08%,0.4:0.08%,0.67:0.08%,0.24:0.06%,0.53:0.06%,0.23:0.05%,0.54:0.04%,0.3:0.03%,0.28:0.03%,0.56:0.03%,0.31:0.03%,0.6:0.03%,0.57:0.02%,0.55:0.02%,0.38:0.02%,0.43:0.02%,0.75:0.01%,0.32:0.01%,0.34:0.01%,0.35:0.01%,0.44:0.01%,0.37:0.01%,0.45:0.01%,0.62:0.0%,0.39:0.0%,0.47:0.0%,0.42:0.0%,0.36:0.0%,0.46:0.0%,0.48:0.0%,0.8:0.0%,0.41:0.0%,0.49:0.0%,0.58:0.0%,0.73:0.0%,0.97:0.0%,0.86:0.0%,0.83:0.0%,0.64:0.0%,0.88:0.0%,0.7:0.0%,0.78:0.0%,0.93:0.0%,0.71:0.0%]\n",
      "** dst_host_serror_rate:101 (0%)\n",
      "** dst_host_srv_serror_rate:[0.0:67.76%,1.0:27.19%,0.01:2.99%,0.02:0.51%,0.03:0.13%,0.04:0.09%,0.5:0.08%,0.05:0.06%,0.08:0.06%,0.07:0.06%,0.09:0.05%,0.97:0.04%,0.98:0.04%,0.06:0.04%,0.67:0.04%,0.11:0.04%,0.12:0.04%,0.33:0.04%,0.96:0.03%,0.1:0.03%,0.17:0.03%,0.25:0.03%,0.14:0.02%,0.2:0.02%,0.95:0.02%,0.92:0.02%,0.94:0.02%,0.75:0.02%,0.93:0.02%,0.91:0.02%,0.78:0.02%,0.88:0.02%,0.9:0.01%,0.16:0.01%,0.62:0.01%,0.73:0.01%,0.79:0.01%,0.27:0.01%,0.6:0.01%,0.18:0.01%,0.56:0.01%,0.65:0.01%,0.13:0.01%,0.43:0.01%,0.22:0.01%,0.4:0.01%,0.89:0.01%,0.85:0.01%,0.29:0.01%,0.15:0.01%,0.83:0.01%,0.69:0.01%,0.86:0.01%,0.8:0.01%,0.48:0.01%,0.87:0.01%,0.7:0.01%,0.81:0.01%,0.36:0.01%,0.76:0.01%,0.34:0.01%,0.49:0.01%,0.31:0.01%,0.71:0.01%,0.66:0.01%,0.82:0.01%,0.57:0.01%,0.3:0.01%,0.51:0.01%,0.39:0.01%,0.64:0.01%,0.38:0.01%,0.26:0.01%,0.63:0.01%,0.21:0.01%,0.41:0.01%,0.47:0.01%,0.19:0.01%,0.24:0.0%,0.52:0.0%,0.74:0.0%,0.54:0.0%,0.58:0.0%,0.84:0.0%,0.77:0.0%,0.45:0.0%,0.68:0.0%,0.42:0.0%,0.61:0.0%,0.28:0.0%,0.32:0.0%,0.55:0.0%,0.72:0.0%,0.44:0.0%,0.35:0.0%,0.53:0.0%,0.37:0.0%,0.23:0.0%,0.59:0.0%,0.46:0.0%]\n",
      "** dst_host_rerror_rate:101 (0%)\n",
      "** dst_host_srv_rerror_rate:101 (0%)\n",
      "** label:[normal:53.46%,neptune:32.72%,satan:2.88%,ipsweep:2.86%,portsweep:2.33%,smurf:2.1%,nmap:1.19%,back:0.76%,teardrop:0.71%,warezclient:0.71%,pod:0.16%,guess_passwd:0.04%,buffer_overflow:0.02%,warezmaster:0.02%,land:0.01%,imap:0.01%,rootkit:0.01%,loadmodule:0.01%,ftp_write:0.01%,multihop:0.01%,phf:0.0%,perl:0.0%,spy:0.0%]\n"
     ]
    }
   ],
   "source": [
    "# Analyze NSL-KDD\n",
    "\n",
    "import pandas as pd\n",
    "import os\n",
    "import numpy as np\n",
    "from sklearn import metrics\n",
    "from scipy.stats import zscore\n",
    "\n",
    "analyze(df)"
   ]
  },
  {
   "cell_type": "markdown",
   "metadata": {
    "colab_type": "text",
    "id": "IUgFl7VArm3I"
   },
   "source": [
    "## **Encode the feature vector**"
   ]
  },
  {
   "cell_type": "code",
   "execution_count": 4,
   "metadata": {
    "colab": {},
    "colab_type": "code",
    "id": "kG8vq6rKU1wk"
   },
   "outputs": [],
   "source": [
    "# Encode a numeric column as zscores\n",
    "def encode_numeric_zscore(df, name, mean=None, sd=None):\n",
    "    if mean is None:\n",
    "        mean = df[name].mean()\n",
    "\n",
    "    if sd is None:\n",
    "        sd = df[name].std()\n",
    "\n",
    "    df[name] = (df[name] - mean) / sd\n",
    "    \n",
    "# Encode text values to dummy variables(i.e. [1,0,0],[0,1,0],[0,0,1] for red,green,blue)\n",
    "def encode_text_dummy(df, name):\n",
    "    dummies = pd.get_dummies(df[name])\n",
    "    for x in dummies.columns:\n",
    "        dummy_name = \"%s-%s\" % (name,x)\n",
    "        df[dummy_name] = dummies[x]\n",
    "    df.drop(name, axis=1, inplace=True)"
   ]
  },
  {
   "cell_type": "code",
   "execution_count": 5,
   "metadata": {
    "colab": {},
    "colab_type": "code",
    "id": "GHTje3BEU1wn"
   },
   "outputs": [],
   "source": [
    "# Now encode the feature vector\n",
    "\n",
    "encode_numeric_zscore(df, 'duration')\n",
    "encode_text_dummy(df, 'protocol_type')\n",
    "encode_text_dummy(df, 'service')\n",
    "encode_text_dummy(df, 'flag')\n",
    "encode_numeric_zscore(df, 'src_bytes')\n",
    "encode_numeric_zscore(df, 'dst_bytes')\n",
    "encode_text_dummy(df, 'land')\n",
    "encode_numeric_zscore(df, 'wrong_fragment')\n",
    "encode_numeric_zscore(df, 'urgent')\n",
    "encode_numeric_zscore(df, 'hot')\n",
    "encode_numeric_zscore(df, 'num_failed_logins')\n",
    "encode_text_dummy(df, 'logged_in')\n",
    "encode_numeric_zscore(df, 'num_compromised')\n",
    "encode_numeric_zscore(df, 'root_shell')\n",
    "encode_numeric_zscore(df, 'su_attempted')\n",
    "encode_numeric_zscore(df, 'num_root')\n",
    "encode_numeric_zscore(df, 'num_file_creations')\n",
    "encode_numeric_zscore(df, 'num_shells')\n",
    "encode_numeric_zscore(df, 'num_access_files')\n",
    "encode_numeric_zscore(df, 'num_outbound_cmds')\n",
    "encode_text_dummy(df, 'is_host_login')\n",
    "encode_text_dummy(df, 'is_guest_login')\n",
    "encode_numeric_zscore(df, 'count')\n",
    "encode_numeric_zscore(df, 'srv_count')\n",
    "encode_numeric_zscore(df, 'serror_rate')\n",
    "encode_numeric_zscore(df, 'srv_serror_rate')\n",
    "encode_numeric_zscore(df, 'rerror_rate')\n",
    "encode_numeric_zscore(df, 'srv_rerror_rate')\n",
    "encode_numeric_zscore(df, 'same_srv_rate')\n",
    "encode_numeric_zscore(df, 'diff_srv_rate')\n",
    "encode_numeric_zscore(df, 'srv_diff_host_rate')\n",
    "encode_numeric_zscore(df, 'dst_host_count')\n",
    "encode_numeric_zscore(df, 'dst_host_srv_count')\n",
    "encode_numeric_zscore(df, 'dst_host_same_srv_rate')\n",
    "encode_numeric_zscore(df, 'dst_host_diff_srv_rate')\n",
    "encode_numeric_zscore(df, 'dst_host_same_src_port_rate')\n",
    "encode_numeric_zscore(df, 'dst_host_srv_diff_host_rate')\n",
    "encode_numeric_zscore(df, 'dst_host_serror_rate')\n",
    "encode_numeric_zscore(df, 'dst_host_srv_serror_rate')\n",
    "encode_numeric_zscore(df, 'dst_host_rerror_rate')\n",
    "encode_numeric_zscore(df, 'dst_host_srv_rerror_rate')\n",
    "\n",
    "# display 5 rows\n",
    "\n",
    "df.dropna(inplace=True,axis=1)\n",
    "df[0:5]\n",
    "# This is the numeric feature vector, as it goes to the neural net\n",
    "\n",
    "\n",
    "# Convert to numpy - Classification\n",
    "x_columns = df.columns.drop('label')\n",
    "x = df[x_columns].values\n",
    "dummies = pd.get_dummies(df['label']) # Classification\n",
    "outcomes = dummies.columns\n",
    "num_classes = len(outcomes)\n",
    "y = dummies.values"
   ]
  },
  {
   "cell_type": "markdown",
   "metadata": {
    "colab_type": "text",
    "id": "-U6uSXn6rtVA"
   },
   "source": [
    "## **The 23 output classes**"
   ]
  },
  {
   "cell_type": "code",
   "execution_count": 6,
   "metadata": {
    "colab": {
     "base_uri": "https://localhost:8080/",
     "height": 451
    },
    "colab_type": "code",
    "executionInfo": {
     "elapsed": 4807,
     "status": "ok",
     "timestamp": 1583858576513,
     "user": {
      "displayName": "Alvaro GM",
      "photoUrl": "https://lh3.googleusercontent.com/a-/AOh14GhyBfY1VN0oaSI7yqkaADWvPeJ4kSku-Q6-6n1m=s64",
      "userId": "05381266810485722805"
     },
     "user_tz": -60
    },
    "id": "InL5-ww-U1wp",
    "outputId": "d6dbfcf9-9211-4a6d-83b4-a11d963d98a2"
   },
   "outputs": [
    {
     "data": {
      "text/plain": [
       "label\n",
       "back                 956\n",
       "buffer_overflow       30\n",
       "ftp_write              8\n",
       "guess_passwd          53\n",
       "imap                  11\n",
       "ipsweep             3599\n",
       "land                  18\n",
       "loadmodule             9\n",
       "multihop               7\n",
       "neptune            41214\n",
       "nmap                1493\n",
       "normal             67343\n",
       "perl                   3\n",
       "phf                    4\n",
       "pod                  201\n",
       "portsweep           2931\n",
       "rootkit               10\n",
       "satan               3633\n",
       "smurf               2646\n",
       "spy                    2\n",
       "teardrop             892\n",
       "warezclient          890\n",
       "warezmaster           20\n",
       "Name: label, dtype: int64"
      ]
     },
     "execution_count": 6,
     "metadata": {},
     "output_type": "execute_result"
    }
   ],
   "source": [
    "df.groupby('label')['label'].count()"
   ]
  },
  {
   "cell_type": "markdown",
   "metadata": {
    "colab_type": "text",
    "id": "4nHn75Ofrz3Y"
   },
   "source": [
    "## **Train the Neural Network**"
   ]
  },
  {
   "cell_type": "code",
   "execution_count": 7,
   "metadata": {
    "colab": {
     "base_uri": "https://localhost:8080/",
     "height": 713
    },
    "colab_type": "code",
    "executionInfo": {
     "elapsed": 57946,
     "status": "ok",
     "timestamp": 1583858629683,
     "user": {
      "displayName": "Alvaro GM",
      "photoUrl": "https://lh3.googleusercontent.com/a-/AOh14GhyBfY1VN0oaSI7yqkaADWvPeJ4kSku-Q6-6n1m=s64",
      "userId": "05381266810485722805"
     },
     "user_tz": -60
    },
    "id": "UiSU-kYYU1wt",
    "outputId": "5f76fa58-0ee4-4027-e9a1-60efc3901715"
   },
   "outputs": [
    {
     "name": "stderr",
     "output_type": "stream",
     "text": [
      "Using TensorFlow backend.\n"
     ]
    },
    {
     "name": "stdout",
     "output_type": "stream",
     "text": [
      "Train on 62986 samples, validate on 62987 samples\n",
      "Epoch 1/1000\n",
      "62986/62986 [==============================] - 32s 506us/sample - loss: 0.1017 - accuracy: 0.9753 - precision_m: 0.9735 - recall_m: 0.9687 - f1_m: 0.9710 - val_loss: 0.0511 - val_accuracy: 0.9863 - val_precision_m: 0.9868 - val_recall_m: 0.9858 - val_f1_m: 0.9863\n",
      "Epoch 2/1000\n",
      "62986/62986 [==============================] - 30s 471us/sample - loss: 0.0442 - accuracy: 0.9889 - precision_m: 0.9896 - recall_m: 0.9884 - f1_m: 0.9890 - val_loss: 0.0461 - val_accuracy: 0.9892 - val_precision_m: 0.9897 - val_recall_m: 0.9889 - val_f1_m: 0.9893\n",
      "Epoch 3/1000\n",
      "62986/62986 [==============================] - 30s 469us/sample - loss: 0.0352 - accuracy: 0.9908 - precision_m: 0.9912 - recall_m: 0.9903 - f1_m: 0.9907 - val_loss: 0.0440 - val_accuracy: 0.9899 - val_precision_m: 0.9907 - val_recall_m: 0.9894 - val_f1_m: 0.9900\n",
      "Epoch 4/1000\n",
      "62986/62986 [==============================] - 29s 463us/sample - loss: 0.0301 - accuracy: 0.9918 - precision_m: 0.9923 - recall_m: 0.9913 - f1_m: 0.9918 - val_loss: 0.0464 - val_accuracy: 0.9890 - val_precision_m: 0.9894 - val_recall_m: 0.9886 - val_f1_m: 0.9890\n",
      "Epoch 5/1000\n",
      "62986/62986 [==============================] - 29s 455us/sample - loss: 0.0289 - accuracy: 0.9918 - precision_m: 0.9921 - recall_m: 0.9915 - f1_m: 0.9918 - val_loss: 0.0445 - val_accuracy: 0.9900 - val_precision_m: 0.9904 - val_recall_m: 0.9896 - val_f1_m: 0.9900\n",
      "Epoch 6/1000\n",
      "62986/62986 [==============================] - 31s 489us/sample - loss: 0.0280 - accuracy: 0.9922 - precision_m: 0.9924 - recall_m: 0.9917 - f1_m: 0.9921 - val_loss: 0.0392 - val_accuracy: 0.9917 - val_precision_m: 0.9920 - val_recall_m: 0.9913 - val_f1_m: 0.9917\n",
      "Epoch 7/1000\n",
      "62986/62986 [==============================] - 30s 481us/sample - loss: 0.0254 - accuracy: 0.9926 - precision_m: 0.9929 - recall_m: 0.9922 - f1_m: 0.9925 - val_loss: 0.0367 - val_accuracy: 0.9918 - val_precision_m: 0.9924 - val_recall_m: 0.9915 - val_f1_m: 0.9919\n",
      "Epoch 8/1000\n",
      "62986/62986 [==============================] - 32s 510us/sample - loss: 0.0246 - accuracy: 0.9930 - precision_m: 0.9932 - recall_m: 0.9927 - f1_m: 0.9930 - val_loss: 0.0344 - val_accuracy: 0.9929 - val_precision_m: 0.9930 - val_recall_m: 0.9927 - val_f1_m: 0.9928\n",
      "Epoch 9/1000\n",
      "62986/62986 [==============================] - 31s 486us/sample - loss: 0.0234 - accuracy: 0.9933 - precision_m: 0.9937 - recall_m: 0.9931 - f1_m: 0.9934 - val_loss: 0.0375 - val_accuracy: 0.9916 - val_precision_m: 0.9922 - val_recall_m: 0.9911 - val_f1_m: 0.9917\n",
      "Epoch 10/1000\n",
      "62986/62986 [==============================] - 31s 489us/sample - loss: 0.0234 - accuracy: 0.9933 - precision_m: 0.9934 - recall_m: 0.9930 - f1_m: 0.9932 - val_loss: 0.0348 - val_accuracy: 0.9931 - val_precision_m: 0.9939 - val_recall_m: 0.9926 - val_f1_m: 0.9932\n",
      "Epoch 11/1000\n",
      "62986/62986 [==============================] - 33s 517us/sample - loss: 0.0219 - accuracy: 0.9937 - precision_m: 0.9939 - recall_m: 0.9934 - f1_m: 0.9937 - val_loss: 0.0360 - val_accuracy: 0.9931 - val_precision_m: 0.9933 - val_recall_m: 0.9929 - val_f1_m: 0.9931\n",
      "Epoch 12/1000\n",
      "62986/62986 [==============================] - 36s 568us/sample - loss: 0.0207 - accuracy: 0.9940 - precision_m: 0.9941 - recall_m: 0.9938 - f1_m: 0.9939 - val_loss: 0.0355 - val_accuracy: 0.9931 - val_precision_m: 0.9932 - val_recall_m: 0.9930 - val_f1_m: 0.9931\n",
      "Epoch 00012: early stopping\n",
      "Time taken for the Network to train: 371.9540595\n"
     ]
    }
   ],
   "source": [
    "import pandas as pd\n",
    "import io\n",
    "import requests\n",
    "import numpy as np\n",
    "import os\n",
    "import timeit\n",
    "from sklearn.model_selection import train_test_split\n",
    "from tensorflow.keras.models import Sequential\n",
    "from tensorflow.keras.layers import Dense, Conv1D, Flatten, Dropout\n",
    "from tensorflow.keras.callbacks import EarlyStopping\n",
    "from keras import backend as K\n",
    "\n",
    "#Custom Metrics\n",
    "def recall_m(y_true, y_pred):\n",
    "        true_positives = K.sum(K.round(K.clip(y_true * y_pred, 0, 1)))\n",
    "        possible_positives = K.sum(K.round(K.clip(y_true, 0, 1)))\n",
    "        recall = true_positives / (possible_positives + K.epsilon())\n",
    "        return recall\n",
    "\n",
    "def precision_m(y_true, y_pred):\n",
    "        true_positives = K.sum(K.round(K.clip(y_true * y_pred, 0, 1)))\n",
    "        predicted_positives = K.sum(K.round(K.clip(y_pred, 0, 1)))\n",
    "        precision = true_positives / (predicted_positives + K.epsilon())\n",
    "        return precision\n",
    "\n",
    "def f1_m(y_true, y_pred):\n",
    "    precision = precision_m(y_true, y_pred)\n",
    "    recall = recall_m(y_true, y_pred)\n",
    "    return 2*((precision*recall)/(precision+recall+K.epsilon()))\n",
    "\n",
    "# Create a test/train split. 50% test\n",
    "# Split into train/test\n",
    "x_train, x_test, y_train, y_test = train_test_split(\n",
    "    x, y, test_size=0.5, random_state=42)\n",
    "\n",
    "num_of_features = x_train.shape[1] #120 features\n",
    "nb_classes = y_train.shape[1] #23 detected actions\n",
    "\n",
    "# Reshaping x_train and x_test for efficient modelling\n",
    "x_train = np.reshape(x_train, (x_train.shape[0], x_train.shape[1], 1))\n",
    "x_test = np.reshape(x_test, (x_test.shape[0], x_test.shape[1], 1))\n",
    "\n",
    "#Model\n",
    "model = Sequential()\n",
    "\n",
    "model.add(Conv1D(num_of_features, kernel_size=3, activation='relu', input_shape=(num_of_features,1)))\n",
    "model.add(Conv1D(nb_classes, kernel_size=3))\n",
    "model.add(Flatten())\n",
    "model.add(Dense(nb_classes,activation='softmax'))\n",
    "\n",
    "model.compile(optimizer='adam',loss='categorical_crossentropy', metrics=['accuracy', precision_m, recall_m, f1_m])\n",
    "\n",
    "monitor = EarlyStopping(monitor='val_loss', min_delta=1e-3, patience=4, verbose=1, mode='auto')\n",
    "\n",
    "startTime = timeit.default_timer()\n",
    "history = model.fit(x_train,y_train,validation_data=(x_test,y_test),callbacks=[monitor],verbose=1,epochs=1000)\n",
    "elapsedTime = timeit.default_timer() - startTime\n",
    "\n",
    "print(\"Time taken for the Network to train:\",elapsedTime)"
   ]
  },
  {
   "cell_type": "markdown",
   "metadata": {
    "colab_type": "text",
    "id": "6QDUPpcNr8JY"
   },
   "source": [
    "## **Plotting & Evaluating Metrics**"
   ]
  },
  {
   "cell_type": "code",
   "execution_count": 8,
   "metadata": {
    "colab": {
     "base_uri": "https://localhost:8080/",
     "height": 1000
    },
    "colab_type": "code",
    "executionInfo": {
     "elapsed": 61711,
     "status": "ok",
     "timestamp": 1583858633480,
     "user": {
      "displayName": "Alvaro GM",
      "photoUrl": "https://lh3.googleusercontent.com/a-/AOh14GhyBfY1VN0oaSI7yqkaADWvPeJ4kSku-Q6-6n1m=s64",
      "userId": "05381266810485722805"
     },
     "user_tz": -60
    },
    "id": "Ln96s8dKfFDu",
    "outputId": "ced3720b-36e9-4427-ba12-08350885501b"
   },
   "outputs": [
    {
     "name": "stdout",
     "output_type": "stream",
     "text": [
      "Evaluating...\n",
      "Plotting the metrics...\n"
     ]
    },
    {
     "data": {
      "image/png": "[encoded data removed]",
      "text/plain": [
       "<Figure size 432x288 with 1 Axes>"
      ]
     },
     "metadata": {
      "needs_background": "light"
     },
     "output_type": "display_data"
    },
    {
     "name": "stdout",
     "output_type": "stream",
     "text": [
      "Loss: 3.55%\n"
     ]
    },
    {
     "data": {
      "image/png": "[encoded data removed]",
      "text/plain": [
       "<Figure size 432x288 with 1 Axes>"
      ]
     },
     "metadata": {
      "needs_background": "light"
     },
     "output_type": "display_data"
    },
    {
     "name": "stdout",
     "output_type": "stream",
     "text": [
      "Accuracy: 99.31%\n"
     ]
    },
    {
     "data": {
      "image/png": "[encoded data removed]",
      "text/plain": [
       "<Figure size 432x288 with 1 Axes>"
      ]
     },
     "metadata": {
      "needs_background": "light"
     },
     "output_type": "display_data"
    },
    {
     "name": "stdout",
     "output_type": "stream",
     "text": [
      "Precision: 99.32%\n"
     ]
    },
    {
     "data": {
      "image/png": "[encoded data removed]",
      "text/plain": [
       "<Figure size 432x288 with 1 Axes>"
      ]
     },
     "metadata": {
      "needs_background": "light"
     },
     "output_type": "display_data"
    },
    {
     "name": "stdout",
     "output_type": "stream",
     "text": [
      "Recall: 99.30%\n"
     ]
    },
    {
     "data": {
      "image/png": "[encoded data removed]",
      "text/plain": [
       "<Figure size 432x288 with 1 Axes>"
      ]
     },
     "metadata": {
      "needs_background": "light"
     },
     "output_type": "display_data"
    },
    {
     "name": "stdout",
     "output_type": "stream",
     "text": [
      "F1 Score: 99.31%\n",
      "\n",
      "Final Score...\n",
      "Validation/Final Score: 99.31%\n"
     ]
    }
   ],
   "source": [
    "import matplotlib.pyplot as plt\n",
    "from sklearn.metrics import accuracy_score\n",
    "\n",
    "#Evaluating\n",
    "print(\"Evaluating...\")\n",
    "loss, accuracy, precision, recall, f1_score = model.evaluate(x_test, y_test, verbose=0, batch_size=1024)\n",
    "\n",
    "print(\"Plotting the metrics...\")\n",
    "plt.rcParams[\"figure.figsize\"] = [6,4]\n",
    "\n",
    "# Plot training & validation loss values\n",
    "plt.plot(history.history['loss'])\n",
    "plt.plot(history.history['val_loss'])\n",
    "plt.title('Model Loss')\n",
    "plt.ylabel('Loss')\n",
    "plt.xlabel('Epoch')\n",
    "plt.legend(['Train', 'Test'], loc='upper left')\n",
    "plt.show()\n",
    "print('Loss: %.2f%%' % (loss*100))\n",
    "\n",
    "# Plot training & validation accuracy values\n",
    "plt.plot(history.history['accuracy'])\n",
    "plt.plot(history.history['val_accuracy'])\n",
    "plt.title('Model Accuracy')\n",
    "plt.ylabel('Accuracy')\n",
    "plt.xlabel('Epoch')\n",
    "plt.legend(['Train', 'Test'], loc='upper left')\n",
    "plt.show()\n",
    "print('Accuracy: %.2f%%' % (accuracy*100))\n",
    "\n",
    "# Plot training & validation precision values\n",
    "plt.plot(history.history['precision_m'])\n",
    "plt.plot(history.history['val_precision_m'])\n",
    "plt.title('Model Precision')\n",
    "plt.ylabel('Precision')\n",
    "plt.xlabel('Epoch')\n",
    "plt.legend(['Train', 'Test'], loc='upper left')\n",
    "plt.show()\n",
    "print('Precision: %.2f%%' % (precision*100))\n",
    "\n",
    "# Plot training & validation recall values\n",
    "plt.plot(history.history['recall_m'])\n",
    "plt.plot(history.history['val_recall_m'])\n",
    "plt.title('Model Recall')\n",
    "plt.ylabel('Recall')\n",
    "plt.xlabel('Epoch')\n",
    "plt.legend(['Train', 'Test'], loc='upper left')\n",
    "plt.show()\n",
    "print('Recall: %.2f%%' % (recall*100))\n",
    "\n",
    "# Plot training & validation f1 score values\n",
    "plt.plot(history.history['f1_m'])\n",
    "plt.plot(history.history['val_f1_m'])\n",
    "plt.title('Model F1 score')\n",
    "plt.ylabel('F1 Score')\n",
    "plt.xlabel('Epoch')\n",
    "plt.legend(['Train', 'Test'], loc='upper left')\n",
    "plt.show()\n",
    "print('F1 Score: %.2f%%' % (f1_score*100))\n",
    "\n",
    "\n",
    "# Final Score\n",
    "print('\\nFinal Score...')\n",
    "y_p = model.predict(x_test)\n",
    "y_pred = np.argmax(y_p,axis=1) #Return a 1D binary vector indicating the ID of the mac number in the row\n",
    "y_eval = np.argmax(y_test,axis=1) #Return a 1D binary vector indicating the ID of the mac number in the row\n",
    "score = accuracy_score(y_eval, y_pred)\n",
    "print('Validation/Final Score: %.2f%%' % (score*100))\n",
    "\n",
    "\n"
   ]
  },
  {
   "cell_type": "markdown",
   "metadata": {
    "colab_type": "text",
    "id": "26MFeYVe1ONb"
   },
   "source": [
    "## **Confusion Matrix**"
   ]
  },
  {
   "cell_type": "code",
   "execution_count": 9,
   "metadata": {
    "colab": {
     "base_uri": "https://localhost:8080/",
     "height": 1000
    },
    "colab_type": "code",
    "executionInfo": {
     "elapsed": 62441,
     "status": "ok",
     "timestamp": 1583858634270,
     "user": {
      "displayName": "Alvaro GM",
      "photoUrl": "https://lh3.googleusercontent.com/a-/AOh14GhyBfY1VN0oaSI7yqkaADWvPeJ4kSku-Q6-6n1m=s64",
      "userId": "05381266810485722805"
     },
     "user_tz": -60
    },
    "id": "3Uo6WQpg3Wfx",
    "outputId": "e9a57662-cc07-435f-dece-887170278251"
   },
   "outputs": [
    {
     "name": "stdout",
     "output_type": "stream",
     "text": [
      "Array combinations: ...\n",
      "Confusion matrix, without normalization\n",
      "[[33433    84    10     0    83]\n",
      " [   61  5785     1     0     0]\n",
      " [   37    13 22939     0     0]\n",
      " [   23     0     0     0     0]\n",
      " [   55     0     0     0   463]]\n"
     ]
    },
    {
     "data": {
      "image/png": "[encoded data removed]",
      "text/plain": [
       "<Figure size 432x432 with 2 Axes>"
      ]
     },
     "metadata": {
      "needs_background": "light"
     },
     "output_type": "display_data"
    },
    {
     "name": "stdout",
     "output_type": "stream",
     "text": [
      "Normalized confusion matrix\n",
      "[[9.94733710e-01 2.49925617e-03 2.97530497e-04 0.00000000e+00\n",
      "  2.46950312e-03]\n",
      " [1.04327005e-02 9.89396272e-01 1.71027878e-04 0.00000000e+00\n",
      "  0.00000000e+00]\n",
      " [1.60946540e-03 5.65487842e-04 9.97825047e-01 0.00000000e+00\n",
      "  0.00000000e+00]\n",
      " [1.00000000e+00 0.00000000e+00 0.00000000e+00 0.00000000e+00\n",
      "  0.00000000e+00]\n",
      " [1.06177606e-01 0.00000000e+00 0.00000000e+00 0.00000000e+00\n",
      "  8.93822394e-01]]\n"
     ]
    },
    {
     "data": {
      "image/png": "[encoded data removed]",
      "text/plain": [
       "<Figure size 432x432 with 2 Axes>"
      ]
     },
     "metadata": {
      "needs_background": "light"
     },
     "output_type": "display_data"
    },
    {
     "name": "stdout",
     "output_type": "stream",
     "text": [
      "Each row adds 1 in total\n"
     ]
    }
   ],
   "source": [
    "# Measure accuracy\n",
    "from sklearn.metrics import confusion_matrix\n",
    "import itertools\n",
    "import sys\n",
    "\n",
    "# Confusion Matrix\n",
    "def plot_confusion_matrix(cm, labels, classes, normalize=False, title='Confusion matrix', cmap=plt.cm.Greys):\n",
    "    # This function prints and plots the confusion matrix. Normalization can be applied by setting `normalize=True`.\n",
    "    plt.rcParams[\"figure.figsize\"] = [6,6]\n",
    "    plt.figure()\n",
    "    if normalize:\n",
    "        cm = cm.astype('float') / cm.sum(axis=1)[:, np.newaxis]\n",
    "        print(\"Normalized confusion matrix\")\n",
    "    else:\n",
    "        print('Confusion matrix, without normalization')\n",
    "    print(cm)\n",
    "\n",
    "    plt.imshow(cm, interpolation='nearest', cmap=cmap)\n",
    "    plt.title(title)\n",
    "    plt.colorbar()\n",
    "    if labels is not None:\n",
    "        tick_marks = np.arange(len(labels))\n",
    "        plt.xticks(tick_marks, labels, rotation=60)\n",
    "        plt.yticks(tick_marks, labels)\n",
    "    else:\n",
    "        tick_marks = np.arange(len(classes))\n",
    "        plt.xticks(tick_marks, classes, rotation=45)\n",
    "        plt.yticks(tick_marks, classes)\n",
    "\n",
    "    thresh = cm.max() / 2.\n",
    "    for i, j in itertools.product(range(cm.shape[0]), range(cm.shape[1])):\n",
    "        if normalize:\n",
    "            plt.text(j, i, \"{0:.4f}\".format(cm[i, j]), horizontalalignment=\"center\", color=\"white\" if cm[i, j] > thresh else \"black\")\n",
    "        else:\n",
    "            plt.text(j, i, \"{0:.0f}\".format(cm[i, j]), horizontalalignment=\"center\", color=\"white\" if cm[i, j] > thresh else \"black\")\n",
    "    plt.tight_layout()\n",
    "    plt.ylabel('True label')\n",
    "    plt.xlabel('Predicted label')\n",
    "    plt.show()\n",
    "\n",
    "# Grouping in the 5 main categories in the KDD-99 dataset\n",
    "# 0 Normal (no attack)\n",
    "y_p0 = np.delete(y_p, [0,1,2,3,4,5,6,7,8,9,10,12,13,14,15,16,17,18,19,20,21,22], axis=1)\n",
    "y_p0s = np.sum(y_p0, axis=1)\n",
    "y_p0r= y_p0s.reshape(y_p0s.shape[0], 1)\n",
    "y_t0 = np.delete(y_test, [0,1,2,3,4,5,6,7,8,9,10,12,13,14,15,16,17,18,19,20,21,22], axis=1)\n",
    "y_t0s = np.sum(y_t0, axis=1)\n",
    "y_t0r= y_t0s.reshape(y_t0s.shape[0], 1)\n",
    "\n",
    "# 1 Probe\n",
    "y_p1 = np.delete(y_p, [0,1,2,3,4,6,7,8,9,11,12,13,14,16,18,19,20,21,22], axis=1)\n",
    "y_p1s = np.sum(y_p1, axis=1)\n",
    "y_p1r= y_p1s.reshape(y_p1s.shape[0], 1)\n",
    "y_t1 = np.delete(y_test, [0,1,2,3,4,6,7,8,9,11,12,13,14,16,18,19,20,21,22], axis=1)\n",
    "y_t1s = np.sum(y_t1, axis=1)\n",
    "y_t1r= y_t1s.reshape(y_t1s.shape[0], 1)\n",
    "\n",
    "# 2 DoS\n",
    "y_p2 = np.delete(y_p, [1,2,3,4,5,7,8,10,11,12,13,15,16,17,19,21,22], axis=1)\n",
    "y_p2s = np.sum(y_p2, axis=1)\n",
    "y_p2r= y_p2s.reshape(y_p2s.shape[0], 1)\n",
    "y_t2 = np.delete(y_test, [1,2,3,4,5,7,8,10,11,12,13,15,16,17,19,21,22], axis=1)\n",
    "y_t2s = np.sum(y_t2, axis=1)\n",
    "y_t2r= y_t2s.reshape(y_t2s.shape[0], 1)\n",
    "\n",
    "# 3 U2R\n",
    "y_p3 = np.delete(y_p, [0,2,3,4,5,6,8,9,10,11,13,14,15,17,18,19,20,21,22], axis=1)\n",
    "y_p3s = np.sum(y_p3, axis=1)\n",
    "y_p3r= y_p2s.reshape(y_p3s.shape[0], 1)\n",
    "y_t3 = np.delete(y_test, [0,2,3,4,5,6,8,9,10,11,13,14,15,17,18,19,20,21,22], axis=1)\n",
    "y_t3s = np.sum(y_t3, axis=1)\n",
    "y_t3r= y_t3s.reshape(y_t3s.shape[0], 1)\n",
    "\n",
    "# 4 R2L\n",
    "y_p4 = np.delete(y_p, [0,1,5,6,7,9,10,11,12,14,15,16,17,18,20], axis=1)\n",
    "y_p4s = np.sum(y_p4, axis=1)\n",
    "y_p4r= y_p4s.reshape(y_p4s.shape[0], 1)\n",
    "y_t4 = np.delete(y_test, [0,1,5,6,7,9,10,11,12,14,15,16,17,18,20], axis=1)\n",
    "y_t4s = np.sum(y_t4, axis=1)\n",
    "y_t4r= y_t4s.reshape(y_t4s.shape[0], 1)\n",
    "\n",
    "y_predT = np.concatenate((y_p0r, y_p1r, y_p2r, y_p3r, y_p4r), axis=1)\n",
    "y_testT = np.concatenate((y_t0r, y_t1r, y_t2r, y_t3r, y_t4r), axis=1)\n",
    "y_pred2 = np.argmax(y_predT,axis=1) #Return a 1D binary vector indicating the ID of the mac number in the row\n",
    "y_eval2 = np.argmax(y_testT,axis=1) #Return a 1D binary vector indicating the ID of the mac number in the row\n",
    "\n",
    "\n",
    "print(\"Array combinations: ...\")\n",
    "\n",
    "labels = ['Normal', 'Probe', 'DoS', 'U2R', 'R2L']\n",
    "cm = confusion_matrix(y_eval2, y_pred2)\n",
    "plot_confusion_matrix(cm, labels, classes=list(range(4)), normalize=False, title='Confusion matrix')\n",
    "plot_confusion_matrix(cm, labels, classes=list(range(4)), normalize=True, title='Confusion matrix normalized')\n",
    "print(\"Each row adds 1 in total\")\n"
   ]
  },
  {
   "cell_type": "markdown",
   "metadata": {
    "colab_type": "text",
    "id": "GoTzUcxj1pXp"
   },
   "source": [
    "## **Error parameters**"
   ]
  },
  {
   "cell_type": "code",
   "execution_count": 10,
   "metadata": {
    "colab": {
     "base_uri": "https://localhost:8080/",
     "height": 271
    },
    "colab_type": "code",
    "executionInfo": {
     "elapsed": 62413,
     "status": "ok",
     "timestamp": 1583858634274,
     "user": {
      "displayName": "Alvaro GM",
      "photoUrl": "https://lh3.googleusercontent.com/a-/AOh14GhyBfY1VN0oaSI7yqkaADWvPeJ4kSku-Q6-6n1m=s64",
      "userId": "05381266810485722805"
     },
     "user_tz": -60
    },
    "id": "5C6BY9vfU1ww",
    "outputId": "24b8f977-2b5d-49e8-b52c-b3afcdc93c29"
   },
   "outputs": [
    {
     "name": "stdout",
     "output_type": "stream",
     "text": [
      "Printing the parameters of each class...\n",
      "\n",
      "\n"
     ]
    },
    {
     "name": "stderr",
     "output_type": "stream",
     "text": [
      "C:\\Users\\Alvaro\\.conda\\envs\\tensorflow\\lib\\site-packages\\ipykernel_launcher.py:38: RuntimeWarning: invalid value encountered in longlong_scalars\n"
     ]
    },
    {
     "data": {
      "text/html": [
       "<div>\n",
       "<style scoped>\n",
       "    .dataframe tbody tr th:only-of-type {\n",
       "        vertical-align: middle;\n",
       "    }\n",
       "\n",
       "    .dataframe tbody tr th {\n",
       "        vertical-align: top;\n",
       "    }\n",
       "\n",
       "    .dataframe thead th {\n",
       "        text-align: right;\n",
       "    }\n",
       "</style>\n",
       "<table border=\"1\" class=\"dataframe\">\n",
       "  <thead>\n",
       "    <tr style=\"text-align: right;\">\n",
       "      <th></th>\n",
       "      <th>TP</th>\n",
       "      <th>FP</th>\n",
       "      <th>FN</th>\n",
       "      <th>TN</th>\n",
       "      <th>FPR/FAR(%)</th>\n",
       "      <th>TNR(%)</th>\n",
       "      <th>FNR(%)</th>\n",
       "      <th>TPR/DR(%)</th>\n",
       "      <th>Accuracy(%)</th>\n",
       "      <th>Precision(%)</th>\n",
       "      <th>Recall(%)</th>\n",
       "      <th>F1 Score(%)</th>\n",
       "    </tr>\n",
       "  </thead>\n",
       "  <tbody>\n",
       "    <tr>\n",
       "      <th>Normal</th>\n",
       "      <td>33433.0</td>\n",
       "      <td>176.0</td>\n",
       "      <td>177.0</td>\n",
       "      <td>29201.0</td>\n",
       "      <td>0.60</td>\n",
       "      <td>99.40</td>\n",
       "      <td>0.53</td>\n",
       "      <td>99.47</td>\n",
       "      <td>99.44</td>\n",
       "      <td>99.48</td>\n",
       "      <td>99.47</td>\n",
       "      <td>99.47</td>\n",
       "    </tr>\n",
       "    <tr>\n",
       "      <th>Probe</th>\n",
       "      <td>5785.0</td>\n",
       "      <td>97.0</td>\n",
       "      <td>62.0</td>\n",
       "      <td>57043.0</td>\n",
       "      <td>0.17</td>\n",
       "      <td>99.83</td>\n",
       "      <td>1.06</td>\n",
       "      <td>98.94</td>\n",
       "      <td>99.75</td>\n",
       "      <td>98.35</td>\n",
       "      <td>98.94</td>\n",
       "      <td>98.64</td>\n",
       "    </tr>\n",
       "    <tr>\n",
       "      <th>DoS</th>\n",
       "      <td>22939.0</td>\n",
       "      <td>11.0</td>\n",
       "      <td>50.0</td>\n",
       "      <td>39987.0</td>\n",
       "      <td>0.03</td>\n",
       "      <td>99.97</td>\n",
       "      <td>0.22</td>\n",
       "      <td>99.78</td>\n",
       "      <td>99.90</td>\n",
       "      <td>99.95</td>\n",
       "      <td>99.78</td>\n",
       "      <td>99.87</td>\n",
       "    </tr>\n",
       "    <tr>\n",
       "      <th>U2R</th>\n",
       "      <td>0.0</td>\n",
       "      <td>0.0</td>\n",
       "      <td>23.0</td>\n",
       "      <td>62964.0</td>\n",
       "      <td>0.00</td>\n",
       "      <td>100.00</td>\n",
       "      <td>100.00</td>\n",
       "      <td>0.00</td>\n",
       "      <td>99.96</td>\n",
       "      <td>NaN</td>\n",
       "      <td>0.00</td>\n",
       "      <td>NaN</td>\n",
       "    </tr>\n",
       "    <tr>\n",
       "      <th>R2L</th>\n",
       "      <td>463.0</td>\n",
       "      <td>83.0</td>\n",
       "      <td>55.0</td>\n",
       "      <td>62386.0</td>\n",
       "      <td>0.13</td>\n",
       "      <td>99.87</td>\n",
       "      <td>10.62</td>\n",
       "      <td>89.38</td>\n",
       "      <td>99.78</td>\n",
       "      <td>84.80</td>\n",
       "      <td>89.38</td>\n",
       "      <td>87.03</td>\n",
       "    </tr>\n",
       "  </tbody>\n",
       "</table>\n",
       "</div>"
      ],
      "text/plain": [
       "             TP     FP     FN       TN  FPR/FAR(%)  TNR(%)  FNR(%)  TPR/DR(%)  \\\n",
       "Normal  33433.0  176.0  177.0  29201.0        0.60   99.40    0.53      99.47   \n",
       "Probe    5785.0   97.0   62.0  57043.0        0.17   99.83    1.06      98.94   \n",
       "DoS     22939.0   11.0   50.0  39987.0        0.03   99.97    0.22      99.78   \n",
       "U2R         0.0    0.0   23.0  62964.0        0.00  100.00  100.00       0.00   \n",
       "R2L       463.0   83.0   55.0  62386.0        0.13   99.87   10.62      89.38   \n",
       "\n",
       "        Accuracy(%)  Precision(%)  Recall(%)  F1 Score(%)  \n",
       "Normal        99.44         99.48      99.47        99.47  \n",
       "Probe         99.75         98.35      98.94        98.64  \n",
       "DoS           99.90         99.95      99.78        99.87  \n",
       "U2R           99.96           NaN       0.00          NaN  \n",
       "R2L           99.78         84.80      89.38        87.03  "
      ]
     },
     "execution_count": 10,
     "metadata": {},
     "output_type": "execute_result"
    }
   ],
   "source": [
    "print(\"Printing the parameters of each class...\")\n",
    "print(\"\\n\")\n",
    "# TP\n",
    "TP = np.diag(cm)\n",
    "\n",
    "# FP\n",
    "FP = []\n",
    "for i in range(cm.shape[0]):\n",
    "    FP.append(sum(cm[:,i]) - cm[i,i])\n",
    "\n",
    "# FN    \n",
    "FN = []\n",
    "for i in range(cm.shape[0]):\n",
    "    FN.append(sum(cm[i,:]) - cm[i,i])    \n",
    "\n",
    "# TN\n",
    "TN = []\n",
    "for i in range(cm.shape[0]):\n",
    "    temp = np.delete(cm, i, 0)   # delete ith row\n",
    "    temp = np.delete(temp, i, 1)  # delete ith column\n",
    "    TN.append(sum(sum(temp)))   \n",
    "\n",
    "# Creating the lists\n",
    "FPR = []\n",
    "TNR = []\n",
    "FNR = []\n",
    "TPR = []\n",
    "ACC = []\n",
    "PRE = []\n",
    "REC = []\n",
    "F1 = []\n",
    "for i in range(cm.shape[0]):\n",
    "    fpri = FP[i]/(TN[i]+FP[i])*100\n",
    "    tnri = TN[i]/(TN[i]+FP[i])*100\n",
    "    fnri = FN[i]/(FN[i]+TP[i])*100\n",
    "    tpri = TP[i]/(TP[i]+FN[i])*100\n",
    "    acci = (TP[i]+TN[i])/(TP[i]+FN[i]+TN[i]+FP[i])*100\n",
    "    prei = TP[i]/(TP[i]+FP[i])*100\n",
    "    reci = TP[i]/(TP[i]+FN[i])*100\n",
    "    f1i = 2*(prei*reci)/(prei+reci)\n",
    "\n",
    "    FPR.append(round(fpri,2))\n",
    "    TNR.append(round(tnri,2))\n",
    "    FNR.append(round(fnri,2))\n",
    "    TPR.append(round(tpri,2))\n",
    "    ACC.append(round(acci,2))\n",
    "    PRE.append(round(prei,2))\n",
    "    REC.append(round(reci,2))\n",
    "    F1.append(round(f1i,2))\n",
    "\n",
    "# Making a dataframe for printing a table\n",
    "TPs=np.asarray(TP)\n",
    "FPs=np.asarray(FP)\n",
    "FNs=np.asarray(FN)\n",
    "TNs=np.asarray(TN)\n",
    "FPRs=np.asarray(FPR)\n",
    "TNRs=np.asarray(TNR)\n",
    "FNRs=np.asarray(FNR)\n",
    "TPRs=np.asarray(TPR)\n",
    "ACCs=np.asarray(ACC)\n",
    "PREs=np.asarray(PRE)\n",
    "RECs=np.asarray(REC)\n",
    "F1s=np.asarray(F1)\n",
    "\n",
    "TPt= TPs.reshape(TPs.shape[0], 1)\n",
    "FPt= FPs.reshape(FPs.shape[0], 1)\n",
    "FNt= FNs.reshape(FNs.shape[0], 1)\n",
    "TNt= TNs.reshape(TNs.shape[0], 1)\n",
    "FPRt= FPRs.reshape(FPRs.shape[0], 1)\n",
    "TNRt= TNRs.reshape(TNRs.shape[0], 1)\n",
    "FNRt= FNRs.reshape(FNRs.shape[0], 1)\n",
    "TPRt= TPRs.reshape(TPRs.shape[0], 1)\n",
    "ACCt= ACCs.reshape(ACCs.shape[0], 1)\n",
    "PREt= PREs.reshape(PREs.shape[0], 1)\n",
    "RECt= RECs.reshape(RECs.shape[0], 1)\n",
    "F1t= F1s.reshape(F1s.shape[0], 1)\n",
    "\n",
    "param = np.concatenate((TPt, FPt, FNt, TNt, FPRt, TNRt, FNRt, TPRt, ACCt, PREt, RECt, F1t), axis=1)\n",
    "\n",
    "dfParam= pd.DataFrame(param, columns = ['TP', 'FP', 'FN', 'TN', 'FPR/FAR(%)', 'TNR(%)', 'FNR(%)', 'TPR/DR(%)', 'Accuracy(%)', 'Precision(%)', 'Recall(%)', 'F1 Score(%)'], index=labels)\n",
    "\n",
    "dfParam[0:len(labels)]"
   ]
  },
  {
   "cell_type": "markdown",
   "metadata": {
    "colab_type": "text",
    "id": "oVN4Y6Lq3LmR"
   },
   "source": [
    "## **ROC**"
   ]
  },
  {
   "cell_type": "code",
   "execution_count": 11,
   "metadata": {
    "colab": {
     "base_uri": "https://localhost:8080/",
     "height": 1000
    },
    "colab_type": "code",
    "executionInfo": {
     "elapsed": 63637,
     "status": "ok",
     "timestamp": 1583858635530,
     "user": {
      "displayName": "Alvaro GM",
      "photoUrl": "https://lh3.googleusercontent.com/a-/AOh14GhyBfY1VN0oaSI7yqkaADWvPeJ4kSku-Q6-6n1m=s64",
      "userId": "05381266810485722805"
     },
     "user_tz": -60
    },
    "id": "tyg7k62-U1wy",
    "outputId": "88d200e3-daba-4c2f-ec91-6644a4eeb106"
   },
   "outputs": [
    {
     "data": {
      "image/png": "[encoded data removed]",
      "text/plain": [
       "<Figure size 432x288 with 1 Axes>"
      ]
     },
     "metadata": {
      "needs_background": "light"
     },
     "output_type": "display_data"
    },
    {
     "data": {
      "image/png": "[encoded data removed]",
      "text/plain": [
       "<Figure size 432x288 with 1 Axes>"
      ]
     },
     "metadata": {
      "needs_background": "light"
     },
     "output_type": "display_data"
    },
    {
     "data": {
      "image/png": "[encoded data removed]",
      "text/plain": [
       "<Figure size 432x288 with 1 Axes>"
      ]
     },
     "metadata": {
      "needs_background": "light"
     },
     "output_type": "display_data"
    },
    {
     "data": {
      "image/png": "[encoded data removed]",
      "text/plain": [
       "<Figure size 432x288 with 1 Axes>"
      ]
     },
     "metadata": {
      "needs_background": "light"
     },
     "output_type": "display_data"
    },
    {
     "data": {
      "image/png": "[encoded data removed]",
      "text/plain": [
       "<Figure size 432x288 with 1 Axes>"
      ]
     },
     "metadata": {
      "needs_background": "light"
     },
     "output_type": "display_data"
    }
   ],
   "source": [
    "# ROC\n",
    "def plot_roc_curve(Y_test, Y_pred, classes, labels):\n",
    "    from sklearn import metrics\n",
    "    import matplotlib.pyplot as plt\n",
    "    fpr = dict()\n",
    "    tpr = dict()\n",
    "    roc_auc = dict()\n",
    "    for i in range(classes):\n",
    "        fpr[i], tpr[i], _ = metrics.roc_curve(Y_test[:, i], Y_pred[:, i])\n",
    "        roc_auc[i] = metrics.auc(fpr[i], tpr[i])   \n",
    "    # Compute micro-average ROC curve and ROC area\n",
    "    fpr[\"micro\"], tpr[\"micro\"], _ = metrics.roc_curve(Y_test.ravel(), Y_pred.ravel())\n",
    "    roc_auc[\"micro\"] = metrics.auc(fpr[\"micro\"], tpr[\"micro\"])   \n",
    "    #plt.figure()\n",
    "    lw = 2\n",
    "    plt.rcParams[\"figure.figsize\"] = [6,4]\n",
    "    for i in range(classes):\n",
    "      plt.plot(fpr[i], tpr[i], color='darkorange',\n",
    "              lw=lw, label='ROC curve (area = %0.4f)' % roc_auc[i])\n",
    "      plt.plot([0, 1], [0, 1], color='navy', lw=lw, linestyle='--')\n",
    "      plt.xlim([0.0, 1.0])\n",
    "      plt.ylim([0.0, 1.05])\n",
    "      plt.xlabel('False Positive Rate')\n",
    "      plt.ylabel('True Positive Rate')\n",
    "      plt.title('Receiver operating characteristic (class '+ str(i+1) +', '+ labels[i] +')')\n",
    "      plt.legend(loc=\"lower right\")\n",
    "      plt.show()\n",
    "\n",
    "plot_roc_curve(y_testT, y_predT, len(labels), labels)\n"
   ]
  }
 ],
 "metadata": {
  "accelerator": "GPU",
  "colab": {
   "collapsed_sections": [],
   "name": "3idsnslkddGCGPUoptCNN.ipynb",
   "provenance": [
    {
     "file_id": "1JeTuvhegCAp6hoOtMM9t6hj_SZUr8OXX",
     "timestamp": 1580906507296
    }
   ]
  },
  "kernelspec": {
   "display_name": "Python 3",
   "language": "python",
   "name": "python3"
  },
  "language_info": {
   "codemirror_mode": {
    "name": "ipython",
    "version": 3
   },
   "file_extension": ".py",
   "mimetype": "text/x-python",
   "name": "python",
   "nbconvert_exporter": "python",
   "pygments_lexer": "ipython3",
   "version": "3.7.6"
  }
 },
 "nbformat": 4,
 "nbformat_minor": 1
}
